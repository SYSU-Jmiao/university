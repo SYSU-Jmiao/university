{
 "cells": [
  {
   "cell_type": "code",
   "execution_count": 1,
   "metadata": {
    "collapsed": true
   },
   "outputs": [],
   "source": [
    "# https://gist.github.com/fchollet/f35fbc80e066a49d65f1688a7e99f069\n",
    "# https://github.com/rajshah4/image_keras/blob/master/notebook.ipynb\n",
    "# https://blog.keras.io/building-powerful-image-classification-models-using-very-little-data.html\n",
    "# http://www.codesofinterest.com/2017/08/bottleneck-features-multi-class-classification-keras.html\n"
   ]
  },
  {
   "cell_type": "code",
   "execution_count": 2,
   "metadata": {
    "collapsed": false
   },
   "outputs": [
    {
     "name": "stdout",
     "output_type": "stream",
     "text": [
      "Collecting keras\n",
      "  Downloading Keras-2.0.8-py2.py3-none-any.whl (276kB)\n",
      "\u001b[K    100% |████████████████████████████████| 276kB 2.2MB/s \n",
      "\u001b[?25hRequirement already satisfied: pyyaml in /usr/local/lib/python2.7/dist-packages (from keras)\n",
      "Requirement already satisfied: six>=1.9.0 in /usr/local/lib/python2.7/dist-packages (from keras)\n",
      "Requirement already satisfied: scipy>=0.14 in /usr/local/lib/python2.7/dist-packages (from keras)\n",
      "Requirement already satisfied: numpy>=1.9.1 in /usr/local/lib/python2.7/dist-packages (from keras)\n",
      "Installing collected packages: keras\n",
      "Successfully installed keras-2.0.8\n",
      "Collecting h5py\n",
      "  Downloading h5py-2.7.1-cp27-cp27mu-manylinux1_x86_64.whl (4.8MB)\n",
      "\u001b[K    100% |████████████████████████████████| 4.8MB 247kB/s \n",
      "\u001b[?25hRequirement already satisfied: numpy>=1.7 in /usr/local/lib/python2.7/dist-packages (from h5py)\n",
      "Requirement already satisfied: six in /usr/local/lib/python2.7/dist-packages (from h5py)\n",
      "Installing collected packages: h5py\n",
      "Successfully installed h5py-2.7.1\n",
      "Collecting missinglink-sdk\n",
      "  Downloading missinglink_sdk-0.1603-py2.py3-none-any.whl\n",
      "Collecting missinglink-kernel==0.1603 (from missinglink-sdk)\n",
      "  Downloading missinglink_kernel-0.1603-py2.py3-none-any.whl (59kB)\n",
      "\u001b[K    100% |████████████████████████████████| 61kB 2.9MB/s \n",
      "\u001b[?25hRequirement already satisfied: requests in /usr/local/lib/python2.7/dist-packages (from missinglink-kernel==0.1603->missinglink-sdk)\n",
      "Requirement already satisfied: numpy in /usr/local/lib/python2.7/dist-packages (from missinglink-kernel==0.1603->missinglink-sdk)\n",
      "Requirement already satisfied: six in /usr/local/lib/python2.7/dist-packages (from missinglink-kernel==0.1603->missinglink-sdk)\n",
      "Requirement already satisfied: protobuf>=3.2.0 in /usr/local/lib/python2.7/dist-packages (from missinglink-kernel==0.1603->missinglink-sdk)\n",
      "Requirement already satisfied: setuptools in /usr/lib/python2.7/dist-packages (from protobuf>=3.2.0->missinglink-kernel==0.1603->missinglink-sdk)\n",
      "Installing collected packages: missinglink-kernel, missinglink-sdk\n",
      "Successfully installed missinglink-kernel-0.1603 missinglink-sdk-0.1603\n"
     ]
    }
   ],
   "source": [
    "!pip install keras\n",
    "!pip install h5py\n",
    "!pip install missinglink-sdk\n"
   ]
  },
  {
   "cell_type": "code",
   "execution_count": 3,
   "metadata": {
    "collapsed": false
   },
   "outputs": [
    {
     "name": "stderr",
     "output_type": "stream",
     "text": [
      "Using TensorFlow backend.\n"
     ]
    }
   ],
   "source": [
    "import keras\n",
    "from keras import applications\n",
    "from keras.preprocessing.image import ImageDataGenerator\n",
    "from keras import optimizers\n",
    "from keras.models import Sequential\n",
    "from keras.layers import Dropout, Flatten, Dense, Activation, Reshape\n",
    "from keras.utils.np_utils import to_categorical  \n",
    "import numpy as np\n",
    "import missinglink"
   ]
  },
  {
   "cell_type": "code",
   "execution_count": 4,
   "metadata": {
    "collapsed": false
   },
   "outputs": [
    {
     "name": "stdout",
     "output_type": "stream",
     "text": [
      "Keys: [u'Classes', u'LabelClass', u'LabelSnr', u'Snrs', u'X_samples', u'Y_samples']\n"
     ]
    }
   ],
   "source": [
    "import h5py\n",
    "filename = '../data_cwt.hdf5'\n",
    "f = h5py.File(filename, 'r')\n",
    "\n",
    "# List all groups\n",
    "print(\"Keys: %s\" % f.keys())\n"
   ]
  },
  {
   "cell_type": "code",
   "execution_count": 5,
   "metadata": {
    "collapsed": false
   },
   "outputs": [],
   "source": [
    "X = f['X_samples']\n",
    "Y = f['Y_samples']\n"
   ]
  },
  {
   "cell_type": "code",
   "execution_count": 6,
   "metadata": {
    "collapsed": false
   },
   "outputs": [],
   "source": [
    "np.random.seed(2016)\n",
    "n_examples = X.shape[0]\n",
    "n_train = n_examples * 0.5\n",
    "train_idx = np.random.choice(range(0,int(n_examples)), size=int(n_train), replace=False)\n",
    "test_idx = list(set(range(0,n_examples))-set(train_idx))\n"
   ]
  },
  {
   "cell_type": "raw",
   "metadata": {},
   "source": [
    "    "
   ]
  },
  {
   "cell_type": "code",
   "execution_count": 7,
   "metadata": {
    "collapsed": true
   },
   "outputs": [],
   "source": [
    "def generate_data_from_hdf5(X_list,Y_list ,indexs ,batchSize):\n",
    "    maxIndex= len(X_list)-batchSize\n",
    "    print \"generator: maxIndex = \" + str(maxIndex)\n",
    "    for i in xrange(0, maxIndex, batchSize):\n",
    "        current_index = indexs[i:i+batchSize]\n",
    "        x = map(lambda t: X_list[t], current_index)\n",
    "        y = map(lambda t: Y_list[t], current_index)\n",
    "        print \"generator: current index = \" + str(i)\n",
    "        yield (np.array(x),np.array(y))\n"
   ]
  },
  {
   "cell_type": "code",
   "execution_count": 8,
   "metadata": {
    "collapsed": false
   },
   "outputs": [
    {
     "name": "stdout",
     "output_type": "stream",
     "text": [
      "(220000, 224, 224, 3) [224, 224, 3]\n"
     ]
    }
   ],
   "source": [
    "in_shp = list(X.shape[1:])\n",
    "print X.shape, in_shp\n",
    "classes = f['Classes']"
   ]
  },
  {
   "cell_type": "code",
   "execution_count": 9,
   "metadata": {
    "collapsed": false
   },
   "outputs": [],
   "source": [
    "# dimensions of our images.\n",
    "img_width, img_height = 224, 224\n",
    "\n",
    "model_weights_path = 'bottleneck_fc_model.h5'\n",
    "train_data_dir = 'data/train'\n",
    "validation_data_dir = 'data/validation'\n",
    "train_samples = 4000\n",
    "validation_samples = 4000\n",
    "epochs = 50\n",
    "batch_size = 100"
   ]
  },
  {
   "cell_type": "code",
   "execution_count": 10,
   "metadata": {
    "collapsed": false
   },
   "outputs": [
    {
     "name": "stdout",
     "output_type": "stream",
     "text": [
      "Downloading data from https://github.com/fchollet/deep-learning-models/releases/download/v0.1/vgg16_weights_tf_dim_ordering_tf_kernels_notop.h5\n",
      "57868288/58889256 [============================>.] - ETA: 0s"
     ]
    }
   ],
   "source": [
    "model_vgg = applications.VGG16(weights='imagenet', include_top=False, input_shape=(224, 224, 3))\n"
   ]
  },
  {
   "cell_type": "code",
   "execution_count": 11,
   "metadata": {
    "collapsed": false
   },
   "outputs": [],
   "source": [
    "top_model = Sequential()\n",
    "top_model.add(Flatten(input_shape=model_vgg.output_shape[1:], name=\"flatten1\"))\n",
    "top_model.add(Dense(256, activation='relu', name=\"dense1\"))    \n",
    "top_model.add(Dropout(0.5))    \n",
    "top_model.add(Dense(11, kernel_initializer=\"he_normal\", name=\"dense2\"))    \n",
    "top_model.add(Activation('softmax'))    \n",
    "top_model.add(Reshape([len(classes)], name=\"reshape2\"))\n",
    "\n",
    "top_model.load_weights('../transfer-cwt/bottleneck_fc_model.h5')\n",
    "#model_vgg.add(top_model)\n",
    "\n",
    "from keras.models import Model\n",
    "\n",
    "model = Model(inputs = model_vgg.input, outputs = top_model(model_vgg.output))\n",
    "for layer in model.layers[:15]:\n",
    "    layer.trainable = False\n",
    "    \n",
    "model.compile(loss='categorical_crossentropy', optimizer='adam')  \n"
   ]
  },
  {
   "cell_type": "code",
   "execution_count": null,
   "metadata": {
    "collapsed": false
   },
   "outputs": [
    {
     "name": "stdout",
     "output_type": "stream",
     "text": [
      "generator: maxIndex = 219900Epoch 1/50\n",
      "\n",
      "generator: current index = 0\n",
      "generator: current index = 100\n",
      "generator: current index = 200\n",
      "generator: current index = 300\n",
      "generator: current index = 400\n",
      "generator: current index = 500\n",
      "generator: current index = 600\n",
      "generator: current index = 700\n",
      "generator: current index = 800\n",
      "generator: current index = 900\n",
      "generator: current index = 1000\n"
     ]
    }
   ],
   "source": [
    "missinglink_callback = missinglink.KerasCallback(owner_id=\"73b7dbec-273d-c6b7-776d-55812449a4e4\", project_token=\"WxqnIeHhwiLIFejy\")\n",
    "missinglink_callback.set_properties(display_name='cwt transfer learning tuned', description='fine tuning transfer using cwt preprocessing')\n",
    "\n",
    "train_generator = generate_data_from_hdf5(X, Y, train_idx, batch_size)\n",
    "validation_generator = generate_data_from_hdf5(X,Y, test_idx, batch_size)\n",
    "\n",
    "model.fit_generator(\n",
    "          train_generator,\n",
    "          steps_per_epoch=train_samples // batch_size,\n",
    "          epochs=epochs,\n",
    "          validation_data=validation_generator,\n",
    "          validation_steps=4000// batch_size,\n",
    "          verbose=2,\n",
    "          callbacks = [\n",
    "          keras.callbacks.TensorBoard(log_dir='./logs', histogram_freq=0, write_graph=True, write_images=False),\n",
    "          missinglink_callback\n",
    "])\n",
    "model.save_weights(model_weights_path)"
   ]
  },
  {
   "cell_type": "code",
   "execution_count": null,
   "metadata": {
    "collapsed": true
   },
   "outputs": [],
   "source": []
  }
 ],
 "metadata": {
  "kernelspec": {
   "display_name": "Python 2",
   "language": "python",
   "name": "python2"
  },
  "language_info": {
   "codemirror_mode": {
    "name": "ipython",
    "version": 2
   },
   "file_extension": ".py",
   "mimetype": "text/x-python",
   "name": "python",
   "nbconvert_exporter": "python",
   "pygments_lexer": "ipython2",
   "version": "2.7.12"
  }
 },
 "nbformat": 4,
 "nbformat_minor": 2
}
