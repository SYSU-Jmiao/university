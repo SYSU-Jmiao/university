{
 "cells": [
  {
   "cell_type": "code",
   "execution_count": 1,
   "metadata": {},
   "outputs": [
    {
     "name": "stderr",
     "output_type": "stream",
     "text": [
      "Using TensorFlow backend.\n"
     ]
    }
   ],
   "source": [
    "%matplotlib inline\n",
    "import os,random\n",
    "\n",
    "os.environ[\"KERAS_BACKEND\"] = \"tensorflow\"\n",
    "os.environ[\"KERAS_FLAGS\"]  = \"device=gpu%d\"%(0)\n",
    "\n",
    "import numpy as np\n",
    "from keras.utils import np_utils\n",
    "import keras.models as models\n",
    "from keras.layers.core import Reshape,Dense,Dropout,Activation,Flatten\n",
    "from keras.layers.noise import GaussianNoise\n",
    "from keras.layers.convolutional import Conv2D, MaxPooling2D, ZeroPadding2D,MaxPooling1D\n",
    "from keras.regularizers import *\n",
    "from keras.optimizers import adam\n",
    "import matplotlib.pyplot as plt\n",
    "import seaborn as sns\n",
    "import cPickle, random, sys, keras\n",
    "import missinglink\n",
    "\n",
    "from IPython.core.interactiveshell import InteractiveShell\n",
    "InteractiveShell.ast_node_interactivity = \"all\"\n",
    "\n"
   ]
  },
  {
   "cell_type": "code",
   "execution_count": 2,
   "metadata": {
    "collapsed": true
   },
   "outputs": [],
   "source": [
    "# Load the dataset ...\n",
    "#  You will need to seperately download or generate this file\n",
    "Xd = cPickle.load(open(\"RML2016.10a_dict.dat\",'rb'))\n",
    "snrs,mods = map(lambda j: sorted(list(set(map(lambda x: x[j], Xd.keys())))), [1,0])\n",
    "X = []  \n",
    "lbl = []\n",
    "for mod in mods:\n",
    "    for snr in snrs:\n",
    "        X.append(Xd[(mod,snr)])\n",
    "        for i in range(Xd[(mod,snr)].shape[0]):  lbl.append((mod,snr))\n",
    "X = np.vstack(X)"
   ]
  },
  {
   "cell_type": "code",
   "execution_count": 3,
   "metadata": {
    "collapsed": true
   },
   "outputs": [],
   "source": [
    "# Partition the data\n",
    "#  into training and test sets of the form we can train/test on \n",
    "#  while keeping SNR and Mod labels handy for each\n",
    "np.random.seed(2016)\n",
    "n_examples = X.shape[0]\n",
    "n_train = n_examples * 0.5\n",
    "train_idx = np.random.choice(range(0,int(n_examples)), size=int(n_train), replace=False)\n",
    "test_idx = list(set(range(0,n_examples))-set(train_idx))\n",
    "X_train = X[train_idx]\n",
    "X_test =  X[test_idx]\n",
    "def to_onehot(yy):\n",
    "    yy1 = np.zeros([len(yy), max(yy)+1])\n",
    "    yy1[np.arange(len(yy)),yy] = 1\n",
    "    return yy1\n",
    "Y_train = to_onehot(map(lambda x: mods.index(lbl[x][0]), train_idx))\n",
    "Y_test = to_onehot(map(lambda x: mods.index(lbl[x][0]), test_idx))"
   ]
  },
  {
   "cell_type": "code",
   "execution_count": 4,
   "metadata": {},
   "outputs": [
    {
     "name": "stdout",
     "output_type": "stream",
     "text": [
      "(110000, 2, 128) [2, 128]\n"
     ]
    }
   ],
   "source": [
    "in_shp = list(X_train.shape[1:])\n",
    "print X_train.shape, in_shp\n",
    "classes = mods"
   ]
  },
  {
   "cell_type": "code",
   "execution_count": 11,
   "metadata": {},
   "outputs": [
    {
     "name": "stdout",
     "output_type": "stream",
     "text": [
      "_________________________________________________________________\n",
      "Layer (type)                 Output Shape              Param #   \n",
      "=================================================================\n",
      "reshape_10 (Reshape)         (None, 2, 128, 1)         0         \n",
      "_________________________________________________________________\n",
      "zero_padding2d_36 (ZeroPaddi (None, 4, 130, 1)         0         \n",
      "_________________________________________________________________\n",
      "conv2d_36 (Conv2D)           (None, 2, 128, 64)        640       \n",
      "_________________________________________________________________\n",
      "max_pooling2d_6 (MaxPooling2 (None, 1, 64, 64)         0         \n",
      "_________________________________________________________________\n",
      "zero_padding2d_37 (ZeroPaddi (None, 3, 66, 64)         0         \n",
      "_________________________________________________________________\n",
      "conv2d_37 (Conv2D)           (None, 1, 64, 128)        73856     \n",
      "_________________________________________________________________\n",
      "zero_padding2d_38 (ZeroPaddi (None, 3, 66, 128)        0         \n",
      "_________________________________________________________________\n",
      "conv2d_38 (Conv2D)           (None, 1, 64, 128)        147584    \n",
      "_________________________________________________________________\n",
      "zero_padding2d_39 (ZeroPaddi (None, 3, 66, 128)        0         \n",
      "_________________________________________________________________\n",
      "conv2d_39 (Conv2D)           (None, 1, 64, 256)        295168    \n",
      "_________________________________________________________________\n",
      "zero_padding2d_40 (ZeroPaddi (None, 3, 66, 256)        0         \n",
      "_________________________________________________________________\n",
      "conv2d_40 (Conv2D)           (None, 1, 64, 256)        590080    \n",
      "_________________________________________________________________\n",
      "zero_padding2d_41 (ZeroPaddi (None, 3, 66, 256)        0         \n",
      "_________________________________________________________________\n",
      "conv2d_41 (Conv2D)           (None, 1, 64, 256)        590080    \n",
      "_________________________________________________________________\n",
      "zero_padding2d_42 (ZeroPaddi (None, 3, 66, 256)        0         \n",
      "_________________________________________________________________\n",
      "conv2d_42 (Conv2D)           (None, 1, 64, 512)        1180160   \n",
      "_________________________________________________________________\n",
      "zero_padding2d_43 (ZeroPaddi (None, 3, 66, 512)        0         \n",
      "_________________________________________________________________\n",
      "conv2d_43 (Conv2D)           (None, 1, 64, 512)        2359808   \n",
      "_________________________________________________________________\n",
      "zero_padding2d_44 (ZeroPaddi (None, 3, 66, 512)        0         \n",
      "_________________________________________________________________\n",
      "conv2d_44 (Conv2D)           (None, 1, 64, 512)        2359808   \n",
      "_________________________________________________________________\n",
      "zero_padding2d_45 (ZeroPaddi (None, 3, 66, 512)        0         \n",
      "_________________________________________________________________\n",
      "conv2d_45 (Conv2D)           (None, 1, 64, 512)        2359808   \n",
      "_________________________________________________________________\n",
      "zero_padding2d_46 (ZeroPaddi (None, 3, 66, 512)        0         \n",
      "_________________________________________________________________\n",
      "conv2d_46 (Conv2D)           (None, 1, 64, 512)        2359808   \n",
      "_________________________________________________________________\n",
      "zero_padding2d_47 (ZeroPaddi (None, 3, 66, 512)        0         \n",
      "_________________________________________________________________\n",
      "conv2d_47 (Conv2D)           (None, 1, 64, 512)        2359808   \n",
      "_________________________________________________________________\n",
      "flatten_2 (Flatten)          (None, 32768)             0         \n",
      "_________________________________________________________________\n",
      "dense1 (Dense)               (None, 256)               8388864   \n",
      "_________________________________________________________________\n",
      "dropout_2 (Dropout)          (None, 256)               0         \n",
      "_________________________________________________________________\n",
      "dense2 (Dense)               (None, 11)                2827      \n",
      "_________________________________________________________________\n",
      "activation_4 (Activation)    (None, 11)                0         \n",
      "_________________________________________________________________\n",
      "reshape_11 (Reshape)         (None, 11)                0         \n",
      "=================================================================\n",
      "Total params: 23,068,299\n",
      "Trainable params: 23,068,299\n",
      "Non-trainable params: 0\n",
      "_________________________________________________________________\n"
     ]
    }
   ],
   "source": [
    "\n",
    "# Build VT-CNN2 Neural Net model using Keras primitives -- \n",
    "#  - Reshape [N,2,128] to [N,1,2,128] on input\n",
    "#  - Pass through 2 2DConv/ReLu layers\n",
    "#  - Pass through 2 Dense layers (ReLu and Softmax)\n",
    "#  - Perform categorical cross entropy optimization\n",
    "\n",
    "dr = 0.5 # dropout rate (%)\n",
    "model = models.Sequential()\n",
    "model.add(Reshape(in_shp+[1], input_shape=in_shp))\n",
    "\n",
    "model.add(ZeroPadding2D((1,1)))\n",
    "model.add(Conv2D(64,(3, 3), activation='relu'))\n",
    "model.add(MaxPooling2D((2,2), strides=(2,2)))\n",
    "\n",
    "model.add(ZeroPadding2D((1,1)))\n",
    "model.add(Conv2D(128,(3, 3), activation='relu'))\n",
    "model.add(ZeroPadding2D((1,1)))\n",
    "model.add(Conv2D(128,(3, 3), activation='relu'))\n",
    "# model.add(MaxPooling2D((2,2), strides=(2,2)))\n",
    "\n",
    "model.add(ZeroPadding2D((1,1)))\n",
    "model.add(Conv2D(256,(3, 3), activation='relu'))\n",
    "model.add(ZeroPadding2D((1,1)))\n",
    "model.add(Conv2D(256,(3, 3), activation='relu'))\n",
    "model.add(ZeroPadding2D((1,1)))\n",
    "model.add(Conv2D(256,(3, 3), activation='relu'))\n",
    "# model.add(MaxPooling2D((2,2), strides=(2,2)))\n",
    "\n",
    "model.add(ZeroPadding2D((1,1)))\n",
    "model.add(Conv2D(512,(3, 3), activation='relu'))\n",
    "model.add(ZeroPadding2D((1,1)))\n",
    "model.add(Conv2D(512,(3, 3), activation='relu'))\n",
    "model.add(ZeroPadding2D((1,1)))\n",
    "model.add(Conv2D(512,(3, 3), activation='relu'))\n",
    "# model.add(MaxPooling2D((2,2), strides=(2,2)))\n",
    "\n",
    "model.add(ZeroPadding2D((1,1)))\n",
    "model.add(Conv2D(512,(3, 3), activation='relu'))\n",
    "model.add(ZeroPadding2D((1,1)))\n",
    "model.add(Conv2D(512,(3, 3), activation='relu'))\n",
    "model.add(ZeroPadding2D((1,1)))\n",
    "model.add(Conv2D(512,(3, 3), activation='relu'))\n",
    "# model.add(MaxPooling2D((2,2), strides=(2,2)))\n",
    "\n",
    "\n",
    "model.add(Flatten())\n",
    "model.add(Dense(256, kernel_initializer=\"he_normal\", activation=\"relu\", name=\"dense1\"))\n",
    "model.add(Dropout(dr))\n",
    "model.add(Dense(11, kernel_initializer=\"he_normal\", name=\"dense2\"))\n",
    "model.add(Activation('softmax'))\n",
    "model.add(Reshape([len(classes)]))\n",
    "model.compile(loss='categorical_crossentropy', optimizer='adam')\n",
    "model.summary()"
   ]
  },
  {
   "cell_type": "code",
   "execution_count": 12,
   "metadata": {
    "collapsed": true
   },
   "outputs": [],
   "source": [
    "# Set up some params \n",
    "nb_epoch = 100     # number of epochs to train on\n",
    "batch_size = 200  # training batch size"
   ]
  },
  {
   "cell_type": "code",
   "execution_count": null,
   "metadata": {},
   "outputs": [
    {
     "name": "stderr",
     "output_type": "stream",
     "text": [
      "/home/yoni/repos/university/ENV/local/lib/python2.7/site-packages/keras/models.py:837: UserWarning: The `nb_epoch` argument in `fit` has been renamed `epochs`.\n",
      "  warnings.warn('The `nb_epoch` argument in `fit` '\n"
     ]
    },
    {
     "name": "stdout",
     "output_type": "stream",
     "text": [
      "Train on 110000 samples, validate on 110000 samples\n"
     ]
    }
   ],
   "source": [
    "# perform training ...\n",
    "missinglink_callback = missinglink.KerasCallback(owner_id=\"73b7dbec-273d-c6b7-776d-55812449a4e4\", project_token=\"WxqnIeHhwiLIFejy\")\n",
    "missinglink_callback.set_properties(display_name='Base experiment', description='Initial base mode for experiment')\n",
    "#   - call the main training loop in keras for our network+dataset\n",
    "filepath = 'convmodrecnets_CNN2_0.5.wts.h5'\n",
    "history = model.fit(X_train,\n",
    "    Y_train,\n",
    "    batch_size=batch_size,\n",
    "    nb_epoch=nb_epoch,\n",
    "    verbose=2,\n",
    "    validation_data=(X_test, Y_test),\n",
    "    callbacks = [\n",
    "        keras.callbacks.ModelCheckpoint(filepath, monitor='val_loss', verbose=0, save_best_only=True, mode='auto'),\n",
    "        keras.callbacks.EarlyStopping(monitor='val_loss', patience=5, verbose=0, mode='auto'),\n",
    "        keras.callbacks.TensorBoard(log_dir='./logs', histogram_freq=0, write_graph=True, write_images=False)\n",
    "    ])\n",
    "# we re-load the best weights once training is finished\n",
    "model.load_weights(filepath)"
   ]
  },
  {
   "cell_type": "code",
   "execution_count": null,
   "metadata": {},
   "outputs": [],
   "source": [
    "# Show simple version of performance\n",
    "score = model.evaluate(X_test, Y_test, verbose=0, batch_size=batch_size)\n",
    "print score"
   ]
  },
  {
   "cell_type": "code",
   "execution_count": null,
   "metadata": {},
   "outputs": [],
   "source": [
    "# Show loss curves \n",
    "plt.figure()\n",
    "plt.title('Training performance')\n",
    "plt.plot(history.epoch, history.history['loss'], label='train loss+error')\n",
    "plt.plot(history.epoch, history.history['val_loss'], label='val_error')\n",
    "plt.legend()"
   ]
  },
  {
   "cell_type": "code",
   "execution_count": null,
   "metadata": {
    "collapsed": true
   },
   "outputs": [],
   "source": [
    "def plot_confusion_matrix(cm, title='Confusion matrix', cmap=plt.cm.Blues, labels=[]):\n",
    "    plt.imshow(cm, interpolation='nearest', cmap=cmap)\n",
    "    plt.title(title)\n",
    "    plt.colorbar()\n",
    "    tick_marks = np.arange(len(labels))\n",
    "    plt.xticks(tick_marks, labels, rotation=45)\n",
    "    plt.yticks(tick_marks, labels)\n",
    "    plt.tight_layout()\n",
    "    plt.ylabel('True label')\n",
    "    plt.xlabel('Predicted label')"
   ]
  },
  {
   "cell_type": "code",
   "execution_count": null,
   "metadata": {},
   "outputs": [],
   "source": [
    "# Plot confusion matrix\n",
    "test_Y_hat = model.predict(X_test, batch_size=batch_size)\n",
    "conf = np.zeros([len(classes),len(classes)])\n",
    "confnorm = np.zeros([len(classes),len(classes)])\n",
    "for i in range(0,X_test.shape[0]):\n",
    "    j = list(Y_test[i,:]).index(1)\n",
    "    k = int(np.argmax(test_Y_hat[i,:]))\n",
    "    conf[j,k] = conf[j,k] + 1\n",
    "for i in range(0,len(classes)):\n",
    "    confnorm[i,:] = conf[i,:] / np.sum(conf[i,:])\n",
    "plot_confusion_matrix(confnorm, labels=classes)\n",
    "\n"
   ]
  },
  {
   "cell_type": "code",
   "execution_count": null,
   "metadata": {},
   "outputs": [],
   "source": [
    "  \n",
    "# Plot confusion matrix\n",
    "acc = {}\n",
    "for snr in snrs:\n",
    "    # extract classes @ SNR\n",
    "    test_SNRs = map(lambda x: lbl[x][1], test_idx)\n",
    "    test_X_i = X_test[np.where(np.array(test_SNRs)==snr)]\n",
    "    test_Y_i = Y_test[np.where(np.array(test_SNRs)==snr)]    \n",
    "    # estimate classes\n",
    "    test_Y_i_hat = model.predict(test_X_i)\n",
    "    conf = np.zeros([len(classes),len(classes)])\n",
    "    confnorm = np.zeros([len(classes),len(classes)])\n",
    "    for i in range(0,test_X_i.shape[0]):\n",
    "        j = list(test_Y_i[i,:]).index(1)\n",
    "        k = int(np.argmax(test_Y_i_hat[i,:]))\n",
    "        conf[j,k] = conf[j,k] + 1\n",
    "    for i in range(0,len(classes)):\n",
    "        confnorm[i,:] = conf[i,:] / np.sum(conf[i,:])\n",
    "    plt.figure()\n",
    "    plot_confusion_matrix(confnorm, labels=classes, title=\"ConvNet Confusion Matrix (SNR=%d)\"%(snr))\n",
    "    \n",
    "    cor = np.sum(np.diag(conf))\n",
    "    ncor = np.sum(conf) - cor\n",
    "    print \"Overall Accuracy: \", cor / (cor+ncor)\n",
    "    acc[snr] = 1.0*cor/(cor+ncor)\n",
    "    "
   ]
  },
  {
   "cell_type": "code",
   "execution_count": null,
   "metadata": {},
   "outputs": [],
   "source": [
    "# Save results to a pickle file for plotting later\n",
    "print acc\n",
    "fd = open('results_cnn2_d0.5.dat','wb')\n",
    "cPickle.dump( (\"CNN2\", 0.5, acc) , fd )"
   ]
  },
  {
   "cell_type": "code",
   "execution_count": null,
   "metadata": {},
   "outputs": [],
   "source": [
    "# Plot accuracy curve\n",
    "plt.plot(snrs, map(lambda x: acc[x], snrs))\n",
    "plt.xlabel(\"Signal to Noise Ratio\")\n",
    "plt.ylabel(\"Classification Accuracy\")\n",
    "plt.title(\"CNN2 Classification Accuracy on RadioML 2016.10 Alpha\")"
   ]
  },
  {
   "cell_type": "code",
   "execution_count": null,
   "metadata": {
    "collapsed": true
   },
   "outputs": [],
   "source": []
  }
 ],
 "metadata": {
  "hide_input": false,
  "kernelspec": {
   "display_name": "Python 2",
   "language": "python",
   "name": "python2"
  },
  "language_info": {
   "codemirror_mode": {
    "name": "ipython",
    "version": 2
   },
   "file_extension": ".py",
   "mimetype": "text/x-python",
   "name": "python",
   "nbconvert_exporter": "python",
   "pygments_lexer": "ipython2",
   "version": "2.7.13"
  }
 },
 "nbformat": 4,
 "nbformat_minor": 1
}
