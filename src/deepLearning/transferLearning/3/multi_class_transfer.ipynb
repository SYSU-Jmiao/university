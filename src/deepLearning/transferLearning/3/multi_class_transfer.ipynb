{
 "cells": [
  {
   "cell_type": "code",
   "execution_count": 1,
   "metadata": {
    "collapsed": true
   },
   "outputs": [],
   "source": [
    "#http://www.codesofinterest.com/2017/08/bottleneck-features-multi-class-classification-keras.html\n",
    "#https://gist.githubusercontent.com/Thimira/354b90d59faf8b0d758f74eae3a511e2/raw/fb7cf93aef1c72c24950a10fc71c04065cead3ab/keras_bottleneck_multiclass.py"
   ]
  },
  {
   "cell_type": "code",
   "execution_count": 2,
   "metadata": {},
   "outputs": [
    {
     "name": "stderr",
     "output_type": "stream",
     "text": [
      "Using TensorFlow backend.\n"
     ]
    }
   ],
   "source": [
    "import numpy as np \n",
    "import keras\n",
    "from keras.preprocessing.image import ImageDataGenerator, img_to_array, load_img  \n",
    "from keras.models import Sequential  \n",
    "from keras.layers import Dropout, Flatten, Dense  \n",
    "from keras import applications  \n",
    "from keras.utils.np_utils import to_categorical  \n",
    "import matplotlib.pyplot as plt  \n",
    "import math  \n",
    "import cv2  "
   ]
  },
  {
   "cell_type": "code",
   "execution_count": 3,
   "metadata": {
    "collapsed": true
   },
   "outputs": [],
   "source": [
    "# dimensions of our images.  \n",
    "img_width, img_height = 224, 224  \n",
    "\n",
    "top_model_weights_path = 'bottleneck_fc_model.h5'  \n",
    "train_data_dir = 'data/train'  \n",
    "validation_data_dir = 'data/validation'  \n",
    "\n",
    "# number of epochs to train top model  \n",
    "epochs = 100  \n",
    "# batch size used by flow_from_directory and predict_generator. //Train%%batch_size=0\n",
    "batch_size = 60   "
   ]
  },
  {
   "cell_type": "code",
   "execution_count": 4,
   "metadata": {
    "collapsed": true
   },
   "outputs": [],
   "source": [
    "model = applications.VGG16(include_top=False, weights='imagenet')  \n"
   ]
  },
  {
   "cell_type": "code",
   "execution_count": 5,
   "metadata": {
    "collapsed": true
   },
   "outputs": [],
   "source": [
    "def save_bottlebeck_features():\n",
    "    # build the VGG16 network\n",
    "    model = applications.VGG16(include_top=False, weights='imagenet')\n",
    "\n",
    "    datagen = ImageDataGenerator(rescale=1. / 255)\n",
    "\n",
    "    generator = datagen.flow_from_directory(\n",
    "        train_data_dir,\n",
    "        target_size=(img_width, img_height),\n",
    "        batch_size=batch_size,\n",
    "        class_mode=None,\n",
    "        shuffle=False)\n",
    "\n",
    "    print(len(generator.filenames))\n",
    "    print(generator.class_indices)\n",
    "    print(len(generator.class_indices))\n",
    "\n",
    "    nb_train_samples = len(generator.filenames)\n",
    "    num_classes = len(generator.class_indices)\n",
    "\n",
    "    predict_size_train = int(math.ceil(nb_train_samples / batch_size))\n",
    "\n",
    "    bottleneck_features_train = model.predict_generator(\n",
    "        generator, predict_size_train)\n",
    "\n",
    "    np.save('bottleneck_features_train.npy', bottleneck_features_train)\n",
    "\n",
    "    generator = datagen.flow_from_directory(\n",
    "        validation_data_dir,\n",
    "        target_size=(img_width, img_height),\n",
    "        batch_size=batch_size,\n",
    "        class_mode=None,\n",
    "        shuffle=False)\n",
    "\n",
    "    nb_validation_samples = len(generator.filenames)\n",
    "\n",
    "    predict_size_validation = int(\n",
    "        math.ceil(nb_validation_samples / batch_size))\n",
    "\n",
    "    bottleneck_features_validation = model.predict_generator(\n",
    "        generator, predict_size_validation)\n",
    "\n",
    "    np.save('bottleneck_features_validation.npy',\n",
    "            bottleneck_features_validation)\n"
   ]
  },
  {
   "cell_type": "code",
   "execution_count": 6,
   "metadata": {},
   "outputs": [],
   "source": [
    "def train_top_model():\n",
    "    datagen_top = ImageDataGenerator(rescale=1. / 255)\n",
    "    generator_top = datagen_top.flow_from_directory(\n",
    "        train_data_dir,\n",
    "        target_size=(img_width, img_height),\n",
    "        batch_size=batch_size,\n",
    "        class_mode='categorical',\n",
    "        shuffle=False)\n",
    "\n",
    "    nb_train_samples = len(generator_top.filenames)\n",
    "    num_classes = len(generator_top.class_indices)\n",
    "\n",
    "    # save the class indices to use use later in predictions\n",
    "    np.save('class_indices.npy', generator_top.class_indices)\n",
    "\n",
    "    # load the bottleneck features saved earlier\n",
    "    train_data = np.load('bottleneck_features_train.npy')\n",
    "\n",
    "    # get the class lebels for the training data, in the original order\n",
    "    train_labels = generator_top.classes\n",
    "\n",
    "    # https://github.com/fchollet/keras/issues/3467\n",
    "    # convert the training labels to categorical vectors\n",
    "    train_labels = to_categorical(train_labels, num_classes=num_classes)\n",
    "\n",
    "    generator_top = datagen_top.flow_from_directory(\n",
    "        validation_data_dir,\n",
    "        target_size=(img_width, img_height),\n",
    "        batch_size=batch_size,\n",
    "        class_mode=None,\n",
    "        shuffle=False)\n",
    "\n",
    "    nb_validation_samples = len(generator_top.filenames)\n",
    "\n",
    "    validation_data = np.load('bottleneck_features_validation.npy')\n",
    "\n",
    "    validation_labels = generator_top.classes\n",
    "    validation_labels = to_categorical(\n",
    "        validation_labels, num_classes=num_classes)\n",
    "\n",
    "    model = Sequential()\n",
    "    model.add(Flatten(input_shape=train_data.shape[1:]))\n",
    "    model.add(Dense(256, activation='relu'))\n",
    "    model.add(Dropout(0.5))\n",
    "    model.add(Dense(num_classes, activation='sigmoid'))\n",
    "\n",
    "    model.compile(optimizer='rmsprop',\n",
    "                  loss='categorical_crossentropy', metrics=['accuracy'])\n",
    "    \n",
    "    filepath = 'convmodrecnets_CNN2_0.5.wts.h5'\n",
    "\n",
    "    history = model.fit(train_data, train_labels,\n",
    "                        epochs=epochs,\n",
    "                        batch_size=batch_size,\n",
    "                        validation_data=(validation_data, validation_labels),\n",
    "                        callbacks = [\n",
    "                            keras.callbacks.ModelCheckpoint(filepath, monitor='val_loss', verbose=0, save_best_only=True, mode='auto'),\n",
    "                            keras.callbacks.EarlyStopping(monitor='val_loss', patience=5, verbose=0, mode='auto'),\n",
    "                            keras.callbacks.TensorBoard(log_dir='./logs', histogram_freq=10, write_graph=True, write_images=True)\n",
    "                        ]\n",
    "                       )\n",
    "\n",
    "    model.save_weights(top_model_weights_path)\n",
    "\n",
    "    (eval_loss, eval_accuracy) = model.evaluate(\n",
    "        validation_data, validation_labels, batch_size=batch_size, verbose=1)\n",
    "\n",
    "    print(\"[INFO] accuracy: {:.2f}%\".format(eval_accuracy * 100))\n",
    "    print(\"[INFO] Loss: {}\".format(eval_loss))\n",
    "\n",
    "    plt.figure(1)\n",
    "\n",
    "    # summarize history for accuracy\n",
    "\n",
    "    plt.subplot(211)\n",
    "    plt.plot(history.history['acc'])\n",
    "    plt.plot(history.history['val_acc'])\n",
    "    plt.title('model accuracy')\n",
    "    plt.ylabel('accuracy')\n",
    "    plt.xlabel('epoch')\n",
    "    plt.legend(['train', 'test'], loc='upper left')\n",
    "\n",
    "    # summarize history for loss\n",
    "\n",
    "    plt.subplot(212)\n",
    "    plt.plot(history.history['loss'])\n",
    "    plt.plot(history.history['val_loss'])\n",
    "    plt.title('model loss')\n",
    "    plt.ylabel('loss')\n",
    "    plt.xlabel('epoch')\n",
    "    plt.legend(['train', 'test'], loc='upper left')\n",
    "    plt.show()\n"
   ]
  },
  {
   "cell_type": "code",
   "execution_count": 7,
   "metadata": {
    "collapsed": true
   },
   "outputs": [],
   "source": [
    "def predict():\n",
    "    # load the class_indices saved in the earlier step\n",
    "    class_dictionary = np.load('class_indices.npy').item()\n",
    "\n",
    "    num_classes = len(class_dictionary)\n",
    "\n",
    "    # add the path to your test image below\n",
    "    image_path = './data/train/8PSK/7720_8PSK_-6.png'\n",
    "\n",
    "    orig = cv2.imread(image_path)\n",
    "\n",
    "    print(\"[INFO] loading and preprocessing image...\")\n",
    "    image = load_img(image_path, target_size=(224, 224))\n",
    "    image = img_to_array(image)\n",
    "\n",
    "    # important! otherwise the predictions will be '0'\n",
    "    image = image / 255\n",
    "\n",
    "    image = np.expand_dims(image, axis=0)\n",
    "\n",
    "    # build the VGG16 network\n",
    "    model = applications.VGG16(include_top=False, weights='imagenet')\n",
    "\n",
    "    # get the bottleneck prediction from the pre-trained VGG16 model\n",
    "    bottleneck_prediction = model.predict(image)\n",
    "\n",
    "    # build top model\n",
    "    model = Sequential()\n",
    "    model.add(Flatten(input_shape=bottleneck_prediction.shape[1:]))\n",
    "    model.add(Dense(256, activation='relu'))\n",
    "    model.add(Dropout(0.5))\n",
    "    model.add(Dense(num_classes, activation='sigmoid'))\n",
    "\n",
    "    model.load_weights(top_model_weights_path)\n",
    "\n",
    "    # use the bottleneck prediction on the top model to get the final\n",
    "    # classification\n",
    "    class_predicted = model.predict_classes(bottleneck_prediction)\n",
    "\n",
    "    probabilities = model.predict_proba(bottleneck_prediction)\n",
    "\n",
    "    inID = class_predicted[0]\n",
    "\n",
    "    inv_map = {v: k for k, v in class_dictionary.items()}\n",
    "\n",
    "    label = inv_map[inID]\n",
    "\n",
    "    # get the prediction label\n",
    "    print(\"Image ID: {}, Label: {}\".format(inID, label))\n",
    "\n",
    "    # display the predictions with the image\n",
    "    cv2.putText(orig, \"Predicted: {}\".format(label), (10, 30),\n",
    "                cv2.FONT_HERSHEY_PLAIN, 1.5, (43, 99, 255), 2)\n",
    "\n",
    "    cv2.imshow(\"Classification\", orig)\n",
    "    cv2.waitKey(0)\n",
    "    cv2.destroyAllWindows()\n",
    "\n"
   ]
  },
  {
   "cell_type": "code",
   "execution_count": 8,
   "metadata": {},
   "outputs": [],
   "source": [
    "#save_bottlebeck_features()\n"
   ]
  },
  {
   "cell_type": "code",
   "execution_count": null,
   "metadata": {},
   "outputs": [
    {
     "name": "stdout",
     "output_type": "stream",
     "text": [
      "Found 6600 images belonging to 11 classes.\n",
      "Found 6600 images belonging to 11 classes.\n",
      "Train on 6600 samples, validate on 6600 samples\n",
      "Epoch 1/100\n",
      "6600/6600 [==============================] - 158s - loss: 2.4618 - acc: 0.1024 - val_loss: 2.3317 - val_acc: 0.1224\n",
      "Epoch 2/100\n",
      "6600/6600 [==============================] - 15s - loss: 2.2659 - acc: 0.1273 - val_loss: 2.1466 - val_acc: 0.1656\n",
      "Epoch 3/100\n",
      "6600/6600 [==============================] - 16s - loss: 2.1573 - acc: 0.1527 - val_loss: 2.0647 - val_acc: 0.2150\n",
      "Epoch 4/100\n",
      "6600/6600 [==============================] - 15s - loss: 2.1174 - acc: 0.1773 - val_loss: 2.0383 - val_acc: 0.2282\n",
      "Epoch 5/100\n",
      "6600/6600 [==============================] - 15s - loss: 2.0767 - acc: 0.2074 - val_loss: 1.9978 - val_acc: 0.2373\n",
      "Epoch 6/100\n",
      "6600/6600 [==============================] - 15s - loss: 2.0540 - acc: 0.2152 - val_loss: 1.9815 - val_acc: 0.2670\n",
      "Epoch 7/100\n",
      "6600/6600 [==============================] - 15s - loss: 2.0250 - acc: 0.2273 - val_loss: 1.9507 - val_acc: 0.2594\n",
      "Epoch 8/100\n",
      "6600/6600 [==============================] - 15s - loss: 2.0164 - acc: 0.2314 - val_loss: 1.9319 - val_acc: 0.2486\n",
      "Epoch 9/100\n",
      "6600/6600 [==============================] - 15s - loss: 2.0025 - acc: 0.2344 - val_loss: 1.9148 - val_acc: 0.2721\n",
      "Epoch 10/100\n",
      "6600/6600 [==============================] - 15s - loss: 1.9921 - acc: 0.2391 - val_loss: 1.8997 - val_acc: 0.2717\n",
      "Epoch 11/100\n",
      "6600/6600 [==============================] - 260s - loss: 1.9961 - acc: 0.2439 - val_loss: 1.8961 - val_acc: 0.2736\n",
      "Epoch 12/100\n",
      "6600/6600 [==============================] - 15s - loss: 1.9804 - acc: 0.2500 - val_loss: 1.8991 - val_acc: 0.2670\n",
      "Epoch 13/100\n",
      "6600/6600 [==============================] - 15s - loss: 1.9692 - acc: 0.2479 - val_loss: 1.9033 - val_acc: 0.2794\n",
      "Epoch 14/100\n",
      "6600/6600 [==============================] - 15s - loss: 1.9732 - acc: 0.2482 - val_loss: 1.8973 - val_acc: 0.2683\n",
      "Epoch 15/100\n",
      "6600/6600 [==============================] - 15s - loss: 1.9817 - acc: 0.2471 - val_loss: 1.9437 - val_acc: 0.2632\n",
      "Epoch 16/100\n",
      "6600/6600 [==============================] - 16s - loss: 1.9561 - acc: 0.2489 - val_loss: 1.8902 - val_acc: 0.2712\n",
      "Epoch 17/100\n",
      "6600/6600 [==============================] - 15s - loss: 1.9588 - acc: 0.2521 - val_loss: 1.9142 - val_acc: 0.2768\n",
      "Epoch 18/100\n",
      "6600/6600 [==============================] - 15s - loss: 1.9559 - acc: 0.2541 - val_loss: 1.8910 - val_acc: 0.2797\n",
      "Epoch 19/100\n",
      "6600/6600 [==============================] - 16s - loss: 1.9549 - acc: 0.2517 - val_loss: 1.9259 - val_acc: 0.2685\n",
      "Epoch 20/100\n",
      "6600/6600 [==============================] - 15s - loss: 1.9458 - acc: 0.2638 - val_loss: 1.9003 - val_acc: 0.2748\n",
      "Epoch 21/100\n",
      "6600/6600 [==============================] - 415s - loss: 1.9551 - acc: 0.2620 - val_loss: 1.8958 - val_acc: 0.2786\n",
      "Epoch 22/100\n",
      "6600/6600 [==============================] - 15s - loss: 1.9379 - acc: 0.2591 - val_loss: 1.8647 - val_acc: 0.2892\n",
      "Epoch 23/100\n",
      "6600/6600 [==============================] - 16s - loss: 1.9367 - acc: 0.2627 - val_loss: 1.8727 - val_acc: 0.2897\n",
      "Epoch 24/100\n",
      "6600/6600 [==============================] - 17s - loss: 1.9445 - acc: 0.2620 - val_loss: 1.8702 - val_acc: 0.2856\n",
      "Epoch 25/100\n",
      "6600/6600 [==============================] - 15s - loss: 1.9397 - acc: 0.2638 - val_loss: 1.8753 - val_acc: 0.2811\n",
      "Epoch 26/100\n",
      "6600/6600 [==============================] - 15s - loss: 1.9385 - acc: 0.2647 - val_loss: 1.8793 - val_acc: 0.2882\n",
      "Epoch 27/100\n",
      "6600/6600 [==============================] - 16s - loss: 1.9242 - acc: 0.2573 - val_loss: 1.8948 - val_acc: 0.2806\n",
      "Epoch 28/100\n",
      "6600/6600 [==============================] - 16s - loss: 1.9240 - acc: 0.2638 - val_loss: 1.8719 - val_acc: 0.2841\n",
      "6540/6600 [============================>.] - ETA: 0s[INFO] accuracy: 28.41%\n",
      "[INFO] Loss: 1.8718737819\n"
     ]
    },
    {
     "data": {
      "image/png": "[encoded data removed]",
      "text/plain": [
       "<matplotlib.figure.Figure at 0x7f67392f3410>"
      ]
     },
     "metadata": {},
     "output_type": "display_data"
    }
   ],
   "source": [
    "train_top_model()\n"
   ]
  },
  {
   "cell_type": "code",
   "execution_count": null,
   "metadata": {},
   "outputs": [
    {
     "name": "stdout",
     "output_type": "stream",
     "text": [
      "[INFO] loading and preprocessing image...\n",
      "1/1 [==============================] - 0s\n",
      "1/1 [==============================] - 0s\n",
      "Image ID: 2, Label: AM-SSB\n"
     ]
    }
   ],
   "source": [
    "predict()\n",
    "\n",
    "cv2.destroyAllWindows()"
   ]
  },
  {
   "cell_type": "code",
   "execution_count": null,
   "metadata": {
    "collapsed": true
   },
   "outputs": [],
   "source": []
  },
  {
   "cell_type": "code",
   "execution_count": null,
   "metadata": {
    "collapsed": true
   },
   "outputs": [],
   "source": []
  }
 ],
 "metadata": {
  "kernelspec": {
   "display_name": "Python 2",
   "language": "python",
   "name": "python2"
  },
  "language_info": {
   "codemirror_mode": {
    "name": "ipython",
    "version": 2
   },
   "file_extension": ".py",
   "mimetype": "text/x-python",
   "name": "python",
   "nbconvert_exporter": "python",
   "pygments_lexer": "ipython2",
   "version": "2.7.12"
  }
 },
 "nbformat": 4,
 "nbformat_minor": 2
}
