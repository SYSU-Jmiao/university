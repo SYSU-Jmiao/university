{
 "cells": [
  {
   "cell_type": "code",
   "execution_count": 1,
   "metadata": {},
   "outputs": [
    {
     "name": "stderr",
     "output_type": "stream",
     "text": [
      "Using TensorFlow backend.\n"
     ]
    }
   ],
   "source": [
    "%matplotlib inline\n",
    "import os,random\n",
    "\n",
    "os.environ[\"KERAS_BACKEND\"] = \"tensorflow\"\n",
    "os.environ[\"KERAS_FLAGS\"]  = \"device=gpu%d\"%(0)\n",
    "\n",
    "import numpy as np\n",
    "from keras.utils import np_utils\n",
    "import keras.models as models\n",
    "from keras.layers.core import Reshape,Dense,Dropout,Activation,Flatten\n",
    "from keras.layers.noise import GaussianNoise\n",
    "from keras.layers.convolutional import Conv2D, MaxPooling2D, ZeroPadding2D, ZeroPadding3D ,Conv3D\n",
    "from keras.regularizers import *\n",
    "from keras.optimizers import adam\n",
    "import matplotlib.pyplot as plt\n",
    "import seaborn as sns\n",
    "import cPickle, random, sys, keras\n",
    "import missinglink"
   ]
  },
  {
   "cell_type": "code",
   "execution_count": 2,
   "metadata": {},
   "outputs": [
    {
     "name": "stdout",
     "output_type": "stream",
     "text": [
      "Keys: [u'Classes', u'LabelClass', u'LabelSnr', u'Snrs', u'X_samples', u'Y_samples']\n"
     ]
    }
   ],
   "source": [
    "import h5py\n",
    "filename = '../data_cwt.hdf5'\n",
    "f = h5py.File(filename, 'r')\n",
    "\n",
    "# List all groups\n",
    "print(\"Keys: %s\" % f.keys())\n"
   ]
  },
  {
   "cell_type": "code",
   "execution_count": 3,
   "metadata": {
    "collapsed": true
   },
   "outputs": [],
   "source": [
    "X = f['X_samples']\n",
    "Y = f['Y_samples']\n"
   ]
  },
  {
   "cell_type": "code",
   "execution_count": 4,
   "metadata": {
    "collapsed": true
   },
   "outputs": [],
   "source": [
    "np.random.seed(2016)\n",
    "n_examples = X.shape[0]\n",
    "n_train = n_examples * 0.5\n",
    "train_idx = np.random.choice(range(0,int(n_examples)), size=int(n_train), replace=False)\n",
    "test_idx = list(set(range(0,n_examples))-set(train_idx))"
   ]
  },
  {
   "cell_type": "code",
   "execution_count": 5,
   "metadata": {},
   "outputs": [],
   "source": [
    "def generate_data_from_hdf5(X_list,Y_list ,indexs ,batchSize):\n",
    "    for i in xrange(0, len(X_list), batchsize):\n",
    "        current_indexs = indexs[i:i+batchsize]\n",
    "        yield (map(lambda t: X_list[t], current_indexs), map(lambda t: Y_list[t], current_indexs))\n"
   ]
  },
  {
   "cell_type": "code",
   "execution_count": 6,
   "metadata": {},
   "outputs": [
    {
     "name": "stdout",
     "output_type": "stream",
     "text": [
      "(220000, 224, 224, 3) [224, 224, 3]\n"
     ]
    }
   ],
   "source": [
    "in_shp = list(X.shape[1:])\n",
    "print X.shape, in_shp\n",
    "classes = f['Classes']"
   ]
  },
  {
   "cell_type": "code",
   "execution_count": 7,
   "metadata": {},
   "outputs": [
    {
     "name": "stdout",
     "output_type": "stream",
     "text": [
      "<type 'list'>\n"
     ]
    }
   ],
   "source": [
    "print type(in_shp)"
   ]
  },
  {
   "cell_type": "code",
   "execution_count": 8,
   "metadata": {},
   "outputs": [
    {
     "name": "stdout",
     "output_type": "stream",
     "text": [
      "_________________________________________________________________\n",
      "Layer (type)                 Output Shape              Param #   \n",
      "=================================================================\n",
      "reshape_1 (Reshape)          (None, 224, 224, 3, 1)    0         \n",
      "_________________________________________________________________\n",
      "zero_padding3d_1 (ZeroPaddin (None, 224, 228, 7, 1)    0         \n",
      "_________________________________________________________________\n",
      "conv1 (Conv3D)               (None, 224, 226, 5, 256)  2560      \n",
      "_________________________________________________________________\n",
      "dropout_1 (Dropout)          (None, 224, 226, 5, 256)  0         \n",
      "_________________________________________________________________\n",
      "zero_padding3d_2 (ZeroPaddin (None, 224, 230, 9, 256)  0         \n",
      "_________________________________________________________________\n",
      "conv2 (Conv3D)               (None, 223, 228, 7, 80)   368720    \n",
      "_________________________________________________________________\n",
      "dropout_2 (Dropout)          (None, 223, 228, 7, 80)   0         \n",
      "_________________________________________________________________\n",
      "flatten_1 (Flatten)          (None, 28472640)          0         \n",
      "_________________________________________________________________\n",
      "dense1 (Dense)               (None, 256)               7288996096\n",
      "_________________________________________________________________\n",
      "dropout_3 (Dropout)          (None, 256)               0         \n",
      "_________________________________________________________________\n",
      "dense2 (Dense)               (None, 11)                2827      \n",
      "_________________________________________________________________\n",
      "activation_1 (Activation)    (None, 11)                0         \n",
      "_________________________________________________________________\n",
      "reshape_2 (Reshape)          (None, 11)                0         \n",
      "=================================================================\n",
      "Total params: 7,289,370,203\n",
      "Trainable params: 7,289,370,203\n",
      "Non-trainable params: 0\n",
      "_________________________________________________________________\n"
     ]
    }
   ],
   "source": [
    "# Build VT-CNN2 Neural Net model using Keras primitives -- \n",
    "#  - Reshape [N,2,128] to [N,1,2,128] on input\n",
    "#  - Pass through 2 2DConv/ReLu layers\n",
    "#  - Pass through 2 Dense layers (ReLu and Softmax)\n",
    "#  - Perform categorical cross entropy optimization\n",
    "\n",
    "dr = 0.5 # dropout rate (%)\n",
    "model = models.Sequential()\n",
    "model.add(Reshape(in_shp+[1], input_shape=in_shp))\n",
    "model.add(ZeroPadding3D((0,2,2)))\n",
    "model.add(Conv3D(256,(1,3,3),kernel_initializer=\"glorot_uniform\", name=\"conv1\", activation=\"relu\", padding=\"valid\"))\n",
    "model.add(Dropout(dr))\n",
    "model.add(ZeroPadding3D((0, 2,2)))\n",
    "model.add(Conv3D(80,(2,3,3),padding=\"valid\", activation=\"relu\", name=\"conv2\", kernel_initializer='glorot_uniform'))\n",
    "model.add(Dropout(dr))\n",
    "model.add(Flatten())\n",
    "model.add(Dense(256, kernel_initializer=\"he_normal\", activation=\"relu\", name=\"dense1\"))\n",
    "model.add(Dropout(dr))\n",
    "model.add(Dense(11, kernel_initializer=\"he_normal\", name=\"dense2\"))\n",
    "model.add(Activation('softmax'))\n",
    "model.add(Reshape([len(classes)]))\n",
    "model.compile(loss='categorical_crossentropy', optimizer='adam')\n",
    "model.summary()"
   ]
  },
  {
   "cell_type": "code",
   "execution_count": 9,
   "metadata": {},
   "outputs": [
    {
     "name": "stdout",
     "output_type": "stream",
     "text": [
      "550\n"
     ]
    }
   ],
   "source": [
    "# Set up some params \n",
    "nb_epoch = 100     # number of epochs to train on\n",
    "batch_size = 200  # training batch size\n",
    "steps_per_epoch = (X.shape[0]/batch_size)/2 # data is split to training and testing\n",
    "print steps_per_epoch"
   ]
  },
  {
   "cell_type": "code",
   "execution_count": null,
   "metadata": {},
   "outputs": [
    {
     "name": "stderr",
     "output_type": "stream",
     "text": [
      "/home/yoni/repos/university/ENV/lib/python2.7/site-packages/ipykernel_launcher.py:16: UserWarning: The semantics of the Keras 2 argument `steps_per_epoch` is not the same as the Keras 1 argument `samples_per_epoch`. `steps_per_epoch` is the number of batches to draw from the generator at each epoch. Basically steps_per_epoch = samples_per_epoch/batch_size. Similarly `nb_val_samples`->`validation_steps` and `val_samples`->`steps` arguments have changed. Update your method calls accordingly.\n",
      "  app.launch_new_instance()\n",
      "/home/yoni/repos/university/ENV/lib/python2.7/site-packages/ipykernel_launcher.py:16: UserWarning: Update your `fit_generator` call to the Keras 2 API: `fit_generator(<generator..., verbose=2, validation_data=<generator..., steps_per_epoch=550, epochs=100, callbacks=[<keras.ca..., validation_steps=550)`\n",
      "  app.launch_new_instance()\n"
     ]
    }
   ],
   "source": [
    "# perform training ...\n",
    "missinglink_callback = missinglink.KerasCallback(owner_id=\"73b7dbec-273d-c6b7-776d-55812449a4e4\", project_token=\"WxqnIeHhwiLIFejy\")\n",
    "missinglink_callback.set_properties(display_name='cwt experiment', description='local, simple conv net')\n",
    "#   - call the main training loop in keras for our network+dataset\n",
    "filepath = 'convmodrecnets_CNN2_0.5.wts.h5'\n",
    "history = model.fit_generator(\n",
    "    generate_data_from_hdf5(X,Y ,train_idx ,batch_size),\n",
    "    validation_data=generate_data_from_hdf5(X,Y ,test_idx ,batch_size),\n",
    "    nb_epoch=nb_epoch,\n",
    "    steps_per_epoch=steps_per_epoch,\n",
    "    validation_steps=steps_per_epoch,\n",
    "    verbose=2,\n",
    "    callbacks = [\n",
    "        keras.callbacks.ModelCheckpoint(filepath, monitor='val_loss', verbose=0, save_best_only=True, mode='auto'),\n",
    "        keras.callbacks.EarlyStopping(monitor='val_loss', patience=5, verbose=0, mode='auto'),\n",
    "        keras.callbacks.TensorBoard(log_dir='./logs', histogram_freq=0, write_graph=True, write_images=False)\n",
    "    ])\n",
    "# we re-load the best weights once training is finished\n",
    "model.load_weights(filepath)"
   ]
  },
  {
   "cell_type": "code",
   "execution_count": null,
   "metadata": {
    "collapsed": true
   },
   "outputs": [],
   "source": []
  }
 ],
 "metadata": {
  "kernelspec": {
   "display_name": "Python 2",
   "language": "python",
   "name": "python2"
  },
  "language_info": {
   "codemirror_mode": {
    "name": "ipython",
    "version": 2
   },
   "file_extension": ".py",
   "mimetype": "text/x-python",
   "name": "python",
   "nbconvert_exporter": "python",
   "pygments_lexer": "ipython2",
   "version": "2.7.13"
  }
 },
 "nbformat": 4,
 "nbformat_minor": 2
}
