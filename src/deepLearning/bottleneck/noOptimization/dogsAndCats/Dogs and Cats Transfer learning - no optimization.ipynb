{
 "cells": [
  {
   "cell_type": "code",
   "execution_count": 1,
   "metadata": {},
   "outputs": [
    {
     "name": "stderr",
     "output_type": "stream",
     "text": [
      "Using TensorFlow backend.\n"
     ]
    }
   ],
   "source": [
    "import numpy as np\n",
    "from keras.preprocessing.image import ImageDataGenerator\n",
    "from keras.models import Sequential\n",
    "from keras.layers import Dropout, Flatten, Dense\n",
    "from keras import applications\n",
    "\n"
   ]
  },
  {
   "cell_type": "code",
   "execution_count": 2,
   "metadata": {
    "collapsed": true
   },
   "outputs": [],
   "source": [
    "# dimensions of our images.\n",
    "img_width, img_height = 150, 150\n",
    "\n",
    "top_model_weights_path = 'bottleneck_fc_model.h5'\n",
    "train_data_dir = 'data/train'\n",
    "validation_data_dir = 'data/validation'\n",
    "nb_train_samples = 2000\n",
    "nb_validation_samples = 800\n",
    "epochs = 50\n",
    "batch_size = 16"
   ]
  },
  {
   "cell_type": "code",
   "execution_count": 3,
   "metadata": {
    "collapsed": true
   },
   "outputs": [],
   "source": [
    "def save_bottlebeck_features():\n",
    "    datagen = ImageDataGenerator(rescale=1. / 255)\n",
    "\n",
    "    # build the VGG16 network\n",
    "    model = applications.VGG16(include_top=False, weights='imagenet')\n",
    "\n",
    "    generator = datagen.flow_from_directory(\n",
    "        train_data_dir,\n",
    "        target_size=(img_width, img_height),\n",
    "        batch_size=batch_size,\n",
    "        class_mode=None,\n",
    "        shuffle=False)\n",
    "    bottleneck_features_train = model.predict_generator(\n",
    "        generator, nb_train_samples // batch_size)\n",
    "    np.save(open('bottleneck_features_train.npy', 'w'),\n",
    "            bottleneck_features_train)\n",
    "\n",
    "    generator = datagen.flow_from_directory(\n",
    "        validation_data_dir,\n",
    "        target_size=(img_width, img_height),\n",
    "        batch_size=batch_size,\n",
    "        class_mode=None,\n",
    "        shuffle=False)\n",
    "    bottleneck_features_validation = model.predict_generator(\n",
    "        generator, nb_validation_samples // batch_size)\n",
    "    np.save(open('bottleneck_features_validation.npy', 'w'),\n",
    "            bottleneck_features_validation)\n"
   ]
  },
  {
   "cell_type": "code",
   "execution_count": 4,
   "metadata": {
    "collapsed": true
   },
   "outputs": [],
   "source": [
    "def train_top_model():\n",
    "    train_data = np.load(open('bottleneck_features_train.npy'))\n",
    "    train_labels = np.array(\n",
    "        [0] * (nb_train_samples / 2) + [1] * (nb_train_samples / 2))\n",
    "\n",
    "    validation_data = np.load(open('bottleneck_features_validation.npy'))\n",
    "    validation_labels = np.array(\n",
    "        [0] * (nb_validation_samples / 2) + [1] * (nb_validation_samples / 2))\n",
    "\n",
    "    model = Sequential()\n",
    "    model.add(Flatten(input_shape=train_data.shape[1:]))\n",
    "    model.add(Dense(256, activation='relu'))\n",
    "    model.add(Dropout(0.5))\n",
    "    model.add(Dense(1, activation='sigmoid'))\n",
    "\n",
    "    model.compile(optimizer='rmsprop',\n",
    "                  loss='binary_crossentropy', metrics=['accuracy'])\n",
    "\n",
    "    model.fit(train_data, train_labels,\n",
    "              epochs=epochs,\n",
    "              batch_size=batch_size,\n",
    "              validation_data=(validation_data, validation_labels))\n",
    "    model.save_weights(top_model_weights_path)"
   ]
  },
  {
   "cell_type": "code",
   "execution_count": 6,
   "metadata": {},
   "outputs": [
    {
     "name": "stdout",
     "output_type": "stream",
     "text": [
      "Found 2000 images belonging to 2 classes.\n",
      "Found 802 images belonging to 2 classes.\n"
     ]
    }
   ],
   "source": [
    "save_bottlebeck_features()\n"
   ]
  },
  {
   "cell_type": "code",
   "execution_count": 7,
   "metadata": {},
   "outputs": [
    {
     "name": "stdout",
     "output_type": "stream",
     "text": [
      "Train on 2000 samples, validate on 800 samples\n",
      "Epoch 1/50\n",
      "2000/2000 [==============================] - 3s - loss: 0.7693 - acc: 0.7510 - val_loss: 0.2826 - val_acc: 0.8825\n",
      "Epoch 2/50\n",
      "2000/2000 [==============================] - 2s - loss: 0.3935 - acc: 0.8440 - val_loss: 0.2804 - val_acc: 0.8825\n",
      "Epoch 3/50\n",
      "2000/2000 [==============================] - 2s - loss: 0.3031 - acc: 0.8850 - val_loss: 0.3104 - val_acc: 0.8750\n",
      "Epoch 4/50\n",
      "2000/2000 [==============================] - 2s - loss: 0.2850 - acc: 0.8910 - val_loss: 0.2707 - val_acc: 0.8938\n",
      "Epoch 5/50\n",
      "2000/2000 [==============================] - 2s - loss: 0.2240 - acc: 0.9190 - val_loss: 0.3157 - val_acc: 0.8888\n",
      "Epoch 6/50\n",
      "2000/2000 [==============================] - 2s - loss: 0.2020 - acc: 0.9200 - val_loss: 0.3109 - val_acc: 0.9000\n",
      "Epoch 7/50\n",
      "2000/2000 [==============================] - 2s - loss: 0.1998 - acc: 0.9250 - val_loss: 0.3287 - val_acc: 0.9000\n",
      "Epoch 8/50\n",
      "2000/2000 [==============================] - 2s - loss: 0.1717 - acc: 0.9390 - val_loss: 0.2971 - val_acc: 0.8950\n",
      "Epoch 9/50\n",
      "2000/2000 [==============================] - 2s - loss: 0.1675 - acc: 0.9425 - val_loss: 0.3447 - val_acc: 0.8988\n",
      "Epoch 10/50\n",
      "2000/2000 [==============================] - 2s - loss: 0.1309 - acc: 0.9550 - val_loss: 0.5280 - val_acc: 0.8712\n",
      "Epoch 11/50\n",
      "2000/2000 [==============================] - 2s - loss: 0.1172 - acc: 0.9570 - val_loss: 0.4716 - val_acc: 0.8938\n",
      "Epoch 12/50\n",
      "2000/2000 [==============================] - 2s - loss: 0.0997 - acc: 0.9690 - val_loss: 0.4705 - val_acc: 0.9038\n",
      "Epoch 13/50\n",
      "2000/2000 [==============================] - 2s - loss: 0.1138 - acc: 0.9635 - val_loss: 0.4850 - val_acc: 0.8988\n",
      "Epoch 14/50\n",
      "2000/2000 [==============================] - 2s - loss: 0.1080 - acc: 0.9640 - val_loss: 0.6496 - val_acc: 0.8775\n",
      "Epoch 15/50\n",
      "2000/2000 [==============================] - 2s - loss: 0.0711 - acc: 0.9765 - val_loss: 0.7417 - val_acc: 0.8825\n",
      "Epoch 16/50\n",
      "2000/2000 [==============================] - 2s - loss: 0.0812 - acc: 0.9690 - val_loss: 0.5205 - val_acc: 0.8950\n",
      "Epoch 17/50\n",
      "2000/2000 [==============================] - 2s - loss: 0.0558 - acc: 0.9790 - val_loss: 0.5865 - val_acc: 0.8950\n",
      "Epoch 18/50\n",
      "2000/2000 [==============================] - 2s - loss: 0.0552 - acc: 0.9810 - val_loss: 0.7114 - val_acc: 0.8912\n",
      "Epoch 19/50\n",
      "2000/2000 [==============================] - 2s - loss: 0.0662 - acc: 0.9760 - val_loss: 0.6225 - val_acc: 0.8900\n",
      "Epoch 20/50\n",
      "2000/2000 [==============================] - 2s - loss: 0.0396 - acc: 0.9880 - val_loss: 0.7844 - val_acc: 0.8775\n",
      "Epoch 21/50\n",
      "2000/2000 [==============================] - 2s - loss: 0.0597 - acc: 0.9800 - val_loss: 0.6413 - val_acc: 0.8938\n",
      "Epoch 22/50\n",
      "2000/2000 [==============================] - 2s - loss: 0.0456 - acc: 0.9810 - val_loss: 0.6392 - val_acc: 0.8938\n",
      "Epoch 23/50\n",
      "2000/2000 [==============================] - 2s - loss: 0.0370 - acc: 0.9880 - val_loss: 0.9091 - val_acc: 0.8838\n",
      "Epoch 24/50\n",
      "2000/2000 [==============================] - 2s - loss: 0.0398 - acc: 0.9880 - val_loss: 0.8184 - val_acc: 0.8838\n",
      "Epoch 25/50\n",
      "2000/2000 [==============================] - 2s - loss: 0.0320 - acc: 0.9895 - val_loss: 0.7348 - val_acc: 0.8900\n",
      "Epoch 26/50\n",
      "2000/2000 [==============================] - 2s - loss: 0.0431 - acc: 0.9870 - val_loss: 0.7079 - val_acc: 0.8925\n",
      "Epoch 27/50\n",
      "2000/2000 [==============================] - 2s - loss: 0.0286 - acc: 0.9890 - val_loss: 1.2267 - val_acc: 0.8462\n",
      "Epoch 28/50\n",
      "2000/2000 [==============================] - 2s - loss: 0.0282 - acc: 0.9895 - val_loss: 0.9120 - val_acc: 0.8838\n",
      "Epoch 29/50\n",
      "2000/2000 [==============================] - 2s - loss: 0.0333 - acc: 0.9915 - val_loss: 1.1305 - val_acc: 0.8700\n",
      "Epoch 30/50\n",
      "2000/2000 [==============================] - 2s - loss: 0.0305 - acc: 0.9885 - val_loss: 0.8896 - val_acc: 0.8900\n",
      "Epoch 31/50\n",
      "2000/2000 [==============================] - 2s - loss: 0.0332 - acc: 0.9890 - val_loss: 0.8495 - val_acc: 0.8888\n",
      "Epoch 32/50\n",
      "2000/2000 [==============================] - 2s - loss: 0.0210 - acc: 0.9950 - val_loss: 0.9237 - val_acc: 0.8925\n",
      "Epoch 33/50\n",
      "2000/2000 [==============================] - 2s - loss: 0.0265 - acc: 0.9940 - val_loss: 0.8141 - val_acc: 0.8938\n",
      "Epoch 34/50\n",
      "2000/2000 [==============================] - 2s - loss: 0.0182 - acc: 0.9930 - val_loss: 0.9083 - val_acc: 0.8988\n",
      "Epoch 35/50\n",
      "2000/2000 [==============================] - 2s - loss: 0.0336 - acc: 0.9900 - val_loss: 0.9620 - val_acc: 0.8925\n",
      "Epoch 36/50\n",
      "2000/2000 [==============================] - 2s - loss: 0.0247 - acc: 0.9925 - val_loss: 0.9316 - val_acc: 0.8925\n",
      "Epoch 37/50\n",
      "2000/2000 [==============================] - 2s - loss: 0.0058 - acc: 0.9980 - val_loss: 1.0451 - val_acc: 0.8900\n",
      "Epoch 38/50\n",
      "2000/2000 [==============================] - 2s - loss: 0.0274 - acc: 0.9930 - val_loss: 1.1011 - val_acc: 0.8850\n",
      "Epoch 39/50\n",
      "2000/2000 [==============================] - 2s - loss: 0.0164 - acc: 0.9935 - val_loss: 1.2624 - val_acc: 0.8675\n",
      "Epoch 40/50\n",
      "2000/2000 [==============================] - 2s - loss: 0.0198 - acc: 0.9935 - val_loss: 0.9723 - val_acc: 0.8825\n",
      "Epoch 41/50\n",
      "2000/2000 [==============================] - 2s - loss: 0.0217 - acc: 0.9930 - val_loss: 0.8784 - val_acc: 0.8975\n",
      "Epoch 42/50\n",
      "2000/2000 [==============================] - 2s - loss: 0.0114 - acc: 0.9955 - val_loss: 0.8733 - val_acc: 0.9025\n",
      "Epoch 43/50\n",
      "2000/2000 [==============================] - 2s - loss: 0.0241 - acc: 0.9940 - val_loss: 0.8905 - val_acc: 0.8850\n",
      "Epoch 44/50\n",
      "2000/2000 [==============================] - 2s - loss: 0.0093 - acc: 0.9960 - val_loss: 1.1266 - val_acc: 0.8900\n",
      "Epoch 45/50\n",
      "2000/2000 [==============================] - 2s - loss: 0.0318 - acc: 0.9925 - val_loss: 0.8704 - val_acc: 0.9012\n",
      "Epoch 46/50\n",
      "2000/2000 [==============================] - 2s - loss: 0.0098 - acc: 0.9970 - val_loss: 0.9375 - val_acc: 0.9012\n",
      "Epoch 47/50\n",
      "2000/2000 [==============================] - 2s - loss: 0.0200 - acc: 0.9945 - val_loss: 1.1198 - val_acc: 0.8900\n",
      "Epoch 48/50\n",
      "2000/2000 [==============================] - 2s - loss: 0.0140 - acc: 0.9960 - val_loss: 0.9614 - val_acc: 0.8988\n",
      "Epoch 49/50\n",
      "2000/2000 [==============================] - 2s - loss: 0.0121 - acc: 0.9965 - val_loss: 0.9518 - val_acc: 0.8900\n",
      "Epoch 50/50\n",
      "2000/2000 [==============================] - 2s - loss: 0.0051 - acc: 0.9975 - val_loss: 0.9634 - val_acc: 0.8938\n"
     ]
    }
   ],
   "source": [
    "train_top_model()"
   ]
  },
  {
   "cell_type": "code",
   "execution_count": null,
   "metadata": {
    "collapsed": true
   },
   "outputs": [],
   "source": []
  }
 ],
 "metadata": {
  "kernelspec": {
   "display_name": "Python 2",
   "language": "python",
   "name": "python2"
  },
  "language_info": {
   "codemirror_mode": {
    "name": "ipython",
    "version": 2
   },
   "file_extension": ".py",
   "mimetype": "text/x-python",
   "name": "python",
   "nbconvert_exporter": "python",
   "pygments_lexer": "ipython2",
   "version": "2.7.13"
  }
 },
 "nbformat": 4,
 "nbformat_minor": 2
}
