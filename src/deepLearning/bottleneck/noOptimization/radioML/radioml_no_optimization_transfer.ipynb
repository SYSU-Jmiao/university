{
 "cells": [
  {
   "cell_type": "code",
   "execution_count": 1,
   "metadata": {},
   "outputs": [
    {
     "name": "stderr",
     "output_type": "stream",
     "text": [
      "Using TensorFlow backend.\n"
     ]
    }
   ],
   "source": [
    "%matplotlib inline\n",
    "import os,random\n",
    "\n",
    "os.environ[\"KERAS_BACKEND\"] = \"tensorflow\"\n",
    "os.environ[\"KERAS_FLAGS\"]  = \"device=gpu%d\"%(0)\n",
    "\n",
    "import numpy as np\n",
    "from keras.utils import np_utils\n",
    "import keras.models as models\n",
    "from keras.layers.core import Reshape,Dense,Dropout,Activation,Flatten\n",
    "from keras.layers.noise import GaussianNoise\n",
    "from keras.layers.convolutional import Conv2D, MaxPooling2D, ZeroPadding2D\n",
    "from keras.regularizers import *\n",
    "from keras.optimizers import adam\n",
    "from keras.utils import normalize\n",
    "import matplotlib.pyplot as plt\n",
    "import seaborn as sns\n",
    "import cPickle, random, sys, keras"
   ]
  },
  {
   "cell_type": "code",
   "execution_count": 2,
   "metadata": {
    "collapsed": true
   },
   "outputs": [],
   "source": [
    "# Load the dataset ...\n",
    "#  You will need to seperately download or generate this file\n",
    "Xd = cPickle.load(open(\"RML2016.10a_dict.dat\",'rb'))\n",
    "snrs,mods = map(lambda j: sorted(list(set(map(lambda x: x[j], Xd.keys())))), [1,0])\n",
    "X = []  \n",
    "lbl = []\n",
    "for mod in mods:\n",
    "    for snr in snrs:\n",
    "        X.append(Xd[(mod,snr)])\n",
    "        for i in range(Xd[(mod,snr)].shape[0]):  lbl.append((mod,snr))\n",
    "X = np.vstack(X)"
   ]
  },
  {
   "cell_type": "code",
   "execution_count": 3,
   "metadata": {
    "collapsed": true
   },
   "outputs": [],
   "source": [
    "# Partition the data\n",
    "#  into training and test sets of the form we can train/test on \n",
    "#  while keeping SNR and Mod labels handy for each\n",
    "np.random.seed(2016)\n",
    "n_examples = X.shape[0]\n",
    "n_train = n_examples * 0.5\n",
    "train_idx = np.random.choice(range(0,int(n_examples)), size=int(n_train), replace=False)\n",
    "test_idx = list(set(range(0,n_examples))-set(train_idx))\n",
    "X_train = X[train_idx]\n",
    "X_test =  X[test_idx]\n",
    "def to_onehot(yy):\n",
    "    yy1 = np.zeros([len(yy), max(yy)+1])\n",
    "    yy1[np.arange(len(yy)),yy] = 1\n",
    "    return yy1\n",
    "Y_train = to_onehot(map(lambda x: mods.index(lbl[x][0]), train_idx))\n",
    "Y_test = to_onehot(map(lambda x: mods.index(lbl[x][0]), test_idx))"
   ]
  },
  {
   "cell_type": "code",
   "execution_count": 4,
   "metadata": {},
   "outputs": [
    {
     "name": "stdout",
     "output_type": "stream",
     "text": [
      "(110000, 2, 128)\n"
     ]
    }
   ],
   "source": [
    "# Convert Samples to images.\n",
    "from scipy import signal\n",
    "print X_train.shape\n",
    "# widths = np.arange(1, 31)\n",
    "# cwtmatr = signal.cwt(sig, signal.ricker, widths)\n",
    "# plt.imshow(cwtmatr, extent=[-1, 1, 1, 31], cmap='PRGn', aspect='auto',\n",
    "#            vmax=abs(cwtmatr).max(), vmin=-abs(cwtmatr).max())\n",
    "# plt.show()"
   ]
  },
  {
   "cell_type": "code",
   "execution_count": 11,
   "metadata": {
    "scrolled": true
   },
   "outputs": [
    {
     "name": "stdout",
     "output_type": "stream",
     "text": [
      "(224, 128, 3)\n",
      "[[[ 0.44727526  0.52958653  0.48843089]\n",
      "  [ 0.39398342  0.52975811  0.46187077]\n",
      "  [ 0.49953637  0.37892     0.43922819]\n",
      "  ..., \n",
      "  [ 0.41697507  0.48541526  0.45119516]\n",
      "  [ 0.44566056  0.52340646  0.48453351]\n",
      "  [ 0.59420458  0.4458351   0.52001984]]\n",
      "\n",
      " [[ 0.43561952  0.50814548  0.4718825 ]\n",
      "  [ 0.45317038  0.45699889  0.45508464]\n",
      "  [ 0.52528676  0.42859355  0.47694016]\n",
      "  ..., \n",
      "  [ 0.50436811  0.44633208  0.47535009]\n",
      "  [ 0.51559142  0.44621114  0.48090128]\n",
      "  [ 0.5401302   0.46298662  0.50155841]]\n",
      "\n",
      " [[ 0.46982066  0.48195618  0.47588842]\n",
      "  [ 0.47071625  0.44471309  0.45771467]\n",
      "  [ 0.47013735  0.41510437  0.44262086]\n",
      "  ..., \n",
      "  [ 0.51503661  0.42811608  0.47157635]\n",
      "  [ 0.53289408  0.42383101  0.47836254]\n",
      "  [ 0.53991199  0.43564192  0.48777695]]\n",
      "\n",
      " ..., \n",
      " [[ 0.59101254  0.40976611  0.50038932]\n",
      "  [ 0.60128824  0.41704302  0.50916563]\n",
      "  [ 0.54984461  0.4149079   0.48237625]\n",
      "  ..., \n",
      "  [ 0.38449004  0.51241396  0.448452  ]\n",
      "  [ 0.37193193  0.51257737  0.44225465]\n",
      "  [ 0.37402079  0.49940155  0.43671117]]\n",
      "\n",
      " [[ 0.59105137  0.40977117  0.50041127]\n",
      "  [ 0.60132602  0.41705534  0.50919068]\n",
      "  [ 0.54986309  0.41491914  0.48239111]\n",
      "  ..., \n",
      "  [ 0.38455828  0.51238035  0.44846931]\n",
      "  [ 0.37199347  0.51254303  0.44226825]\n",
      "  [ 0.37407988  0.49935464  0.43671726]]\n",
      "\n",
      " [[ 0.59108959  0.40977616  0.50043288]\n",
      "  [ 0.60136319  0.4170675   0.50921534]\n",
      "  [ 0.54988127  0.41493023  0.48240575]\n",
      "  ..., \n",
      "  [ 0.3846256   0.51234718  0.44848639]\n",
      "  [ 0.37205419  0.51250916  0.44228167]\n",
      "  [ 0.37413818  0.49930836  0.43672327]]]\n"
     ]
    }
   ],
   "source": [
    "def create_image_from_signal(x):\n",
    "    widths = np.arange(1, 224+1)    \n",
    "    r = normalize(signal.cwt(x[0], signal.ricker, widths),1)+0.5\n",
    "    g = normalize(signal.cwt(x[1], signal.ricker, widths),1)+0.5\n",
    "    b = (r + g)/ 2    \n",
    "    rgb = np.dstack((r,g,b))\n",
    "    return rgb\n",
    "\n",
    "testSignal = create_image_from_signal(X[0])"
   ]
  },
  {
   "cell_type": "code",
   "execution_count": null,
   "metadata": {
    "collapsed": true
   },
   "outputs": [],
   "source": []
  },
  {
   "cell_type": "code",
   "execution_count": null,
   "metadata": {
    "collapsed": true
   },
   "outputs": [],
   "source": []
  }
 ],
 "metadata": {
  "kernelspec": {
   "display_name": "Python 2",
   "language": "python",
   "name": "python2"
  },
  "language_info": {
   "codemirror_mode": {
    "name": "ipython",
    "version": 2
   },
   "file_extension": ".py",
   "mimetype": "text/x-python",
   "name": "python",
   "nbconvert_exporter": "python",
   "pygments_lexer": "ipython2",
   "version": "2.7.13"
  }
 },
 "nbformat": 4,
 "nbformat_minor": 2
}
