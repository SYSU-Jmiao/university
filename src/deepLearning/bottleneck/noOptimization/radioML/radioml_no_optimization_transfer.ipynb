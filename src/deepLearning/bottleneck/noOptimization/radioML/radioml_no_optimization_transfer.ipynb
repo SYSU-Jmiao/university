{
 "cells": [
  {
   "cell_type": "code",
   "execution_count": 4,
   "metadata": {},
   "outputs": [],
   "source": [
    "%matplotlib inline\n",
    "import os,random\n",
    "\n",
    "os.environ[\"KERAS_BACKEND\"] = \"tensorflow\"\n",
    "os.environ[\"KERAS_FLAGS\"]  = \"device=gpu%d\"%(0)\n",
    "\n",
    "import numpy as np\n",
    "from keras.utils import np_utils\n",
    "import keras.models as models\n",
    "from keras.layers.core import Reshape,Dense,Dropout,Activation,Flatten\n",
    "from keras.layers.noise import GaussianNoise\n",
    "from keras.layers.convolutional import Conv2D, MaxPooling2D, ZeroPadding2D\n",
    "from keras.regularizers import *\n",
    "from keras.optimizers import adam\n",
    "from keras.utils import normalize\n",
    "import matplotlib.pyplot as plt\n",
    "import seaborn as sns\n",
    "import cPickle, random, sys, keras"
   ]
  },
  {
   "cell_type": "code",
   "execution_count": 5,
   "metadata": {},
   "outputs": [],
   "source": [
    "# Load the dataset ...\n",
    "#  You will need to seperately download or generate this file\n",
    "Xd = cPickle.load(open(\"RML2016.10a_dict.dat\",'rb'))\n",
    "snrs,mods = map(lambda j: sorted(list(set(map(lambda x: x[j], Xd.keys())))), [1,0])\n",
    "X = []  \n",
    "lbl = []\n",
    "for mod in mods:\n",
    "    for snr in snrs:\n",
    "        X.append(Xd[(mod,snr)])\n",
    "        for i in range(Xd[(mod,snr)].shape[0]):  lbl.append((mod,snr))\n",
    "X = np.vstack(X)"
   ]
  },
  {
   "cell_type": "code",
   "execution_count": 6,
   "metadata": {
    "collapsed": true
   },
   "outputs": [],
   "source": [
    "# Partition the data\n",
    "#  into training and test sets of the form we can train/test on \n",
    "#  while keeping SNR and Mod labels handy for each\n",
    "np.random.seed(2016)\n",
    "n_examples = X.shape[0]\n",
    "n_train = n_examples * 0.5\n",
    "train_idx = np.random.choice(range(0,int(n_examples)), size=int(n_train), replace=False)\n",
    "test_idx = list(set(range(0,n_examples))-set(train_idx))\n",
    "X_train = X[train_idx]\n",
    "X_test =  X[test_idx]\n",
    "def to_onehot(yy):\n",
    "    yy1 = np.zeros([len(yy), max(yy)+1])\n",
    "    yy1[np.arange(len(yy)),yy] = 1\n",
    "    return yy1\n",
    "Y_train = to_onehot(map(lambda x: mods.index(lbl[x][0]), train_idx))\n",
    "Y_test = to_onehot(map(lambda x: mods.index(lbl[x][0]), test_idx))"
   ]
  },
  {
   "cell_type": "code",
   "execution_count": 7,
   "metadata": {
    "collapsed": true,
    "scrolled": true
   },
   "outputs": [],
   "source": [
    "from scipy import signal\n",
    "\n",
    "def create_image_from_signal(x):\n",
    "    widths = np.arange(1, 224+1)    \n",
    "    r = normalize(signal.cwt(x[0], signal.ricker, widths),1)+0.5\n",
    "    g = normalize(signal.cwt(x[1], signal.ricker, widths),1)+0.5\n",
    "    b = (r + g)/ 2    \n",
    "    rgb = np.dstack((r,g,b))\n",
    "    return rgb\n"
   ]
  },
  {
   "cell_type": "code",
   "execution_count": 8,
   "metadata": {},
   "outputs": [],
   "source": [
    "Y_train_rgb = Y_train[:3000]\n",
    "X_train_rgb = np.zeros((3000,224,128,3))\n",
    "for index in range(0, 3000):\n",
    "    X_train_rgb[index] = create_image_from_signal(X_train[index])\n"
   ]
  },
  {
   "cell_type": "code",
   "execution_count": 9,
   "metadata": {},
   "outputs": [],
   "source": [
    "Y_test_rgb = Y_test[:3000]\n",
    "X_test_rgb = np.zeros((3000,224,128,3))\n",
    "for index in range(0, 3000):\n",
    "    X_test_rgb[index] = create_image_from_signal(X_test[index])\n"
   ]
  },
  {
   "cell_type": "code",
   "execution_count": 10,
   "metadata": {},
   "outputs": [],
   "source": [
    "from keras import applications\n",
    "model = applications.VGG16(include_top=False, weights='imagenet')"
   ]
  },
  {
   "cell_type": "code",
   "execution_count": 11,
   "metadata": {},
   "outputs": [
    {
     "name": "stdout",
     "output_type": "stream",
     "text": [
      "_________________________________________________________________\n",
      "Layer (type)                 Output Shape              Param #   \n",
      "=================================================================\n",
      "flatten_1 (Flatten)          (None, 86016)             0         \n",
      "_________________________________________________________________\n",
      "dense1 (Dense)               (None, 256)               22020352  \n",
      "_________________________________________________________________\n",
      "dropout_1 (Dropout)          (None, 256)               0         \n",
      "_________________________________________________________________\n",
      "dense2 (Dense)               (None, 11)                2827      \n",
      "_________________________________________________________________\n",
      "activation_1 (Activation)    (None, 11)                0         \n",
      "_________________________________________________________________\n",
      "reshape_1 (Reshape)          (None, 11)                0         \n",
      "=================================================================\n",
      "Total params: 22,023,179\n",
      "Trainable params: 22,023,179\n",
      "Non-trainable params: 0\n",
      "_________________________________________________________________\n"
     ]
    }
   ],
   "source": [
    "dr = 0.5 # dropout rate (%)\n",
    "epochs = 50\n",
    "batch_size = 16\n",
    "\n",
    "model = models.Sequential()\n",
    "\n",
    "model.add(Flatten(input_shape=list(X_train_rgb.shape[1:])))\n",
    "model.add(Dense(256, kernel_initializer=\"he_normal\", activation=\"relu\", name=\"dense1\"))\n",
    "model.add(Dropout(dr))\n",
    "model.add(Dense(11, kernel_initializer=\"he_normal\", name=\"dense2\"))\n",
    "model.add(Activation('softmax'))\n",
    "model.add(Reshape([len(mods)]))\n",
    "model.compile(loss='categorical_crossentropy', optimizer='adam')\n",
    "model.summary()"
   ]
  },
  {
   "cell_type": "code",
   "execution_count": 12,
   "metadata": {},
   "outputs": [
    {
     "name": "stdout",
     "output_type": "stream",
     "text": [
      "Train on 3000 samples, validate on 3000 samples\n",
      "Epoch 1/50\n",
      "3000/3000 [==============================] - 65s - loss: 14.6387 - val_loss: 1.1921e-07\n",
      "Epoch 2/50\n",
      "3000/3000 [==============================] - 55s - loss: 14.6943 - val_loss: 1.1921e-07\n",
      "Epoch 3/50\n",
      "3000/3000 [==============================] - 58s - loss: 14.6890 - val_loss: 1.1921e-07\n",
      "Epoch 4/50\n",
      "3000/3000 [==============================] - 68s - loss: 14.7264 - val_loss: 16.1181\n",
      "Epoch 5/50\n",
      "3000/3000 [==============================] - 58s - loss: 14.7141 - val_loss: 16.1181\n",
      "Epoch 6/50\n",
      "3000/3000 [==============================] - 57s - loss: 14.7082 - val_loss: 16.1181\n",
      "Epoch 7/50\n",
      "3000/3000 [==============================] - 55s - loss: 14.7104 - val_loss: 16.1181\n"
     ]
    }
   ],
   "source": [
    "top_model_weights_path = 'bottleneck_fc_model.h5'\n",
    "filepath = 'convmodrecnets_CNN2_0.5.wts.h5'\n",
    "\n",
    "history = model.fit(\n",
    "    X_train_rgb,\n",
    "    Y_train_rgb,\n",
    "    epochs=epochs,\n",
    "    batch_size=batch_size,\n",
    "    validation_data=(X_test_rgb, Y_test_rgb),\n",
    "    callbacks = [\n",
    "        keras.callbacks.ModelCheckpoint(filepath, monitor='val_loss', verbose=0, save_best_only=True, mode='auto'),\n",
    "        keras.callbacks.EarlyStopping(monitor='val_loss', patience=5, verbose=0, mode='auto'),\n",
    "        keras.callbacks.TensorBoard(log_dir='./logs', histogram_freq=0, write_graph=True, write_images=True)\n",
    "    ]\n",
    ")\n",
    "\n",
    "model.save_weights(top_model_weights_path)"
   ]
  },
  {
   "cell_type": "code",
   "execution_count": 13,
   "metadata": {},
   "outputs": [
    {
     "name": "stdout",
     "output_type": "stream",
     "text": [
      "16.1180953979\n"
     ]
    }
   ],
   "source": [
    "# Show simple version of performance\n",
    "score = model.evaluate(X_test_rgb, Y_test_rgb, verbose=0, batch_size=batch_size)\n",
    "print score"
   ]
  },
  {
   "cell_type": "code",
   "execution_count": 14,
   "metadata": {},
   "outputs": [
    {
     "data": {
      "text/plain": [
       "<matplotlib.legend.Legend at 0x7f12feae5b50>"
      ]
     },
     "execution_count": 14,
     "metadata": {},
     "output_type": "execute_result"
    },
    {
     "data": {
      "image/png": "[encoded data removed]",
      "text/plain": [
       "<matplotlib.figure.Figure at 0x7f1474041c50>"
      ]
     },
     "metadata": {},
     "output_type": "display_data"
    }
   ],
   "source": [
    "# Show loss curves \n",
    "plt.figure()\n",
    "plt.title('Training performance')\n",
    "plt.plot(history.epoch, history.history['loss'], label='train loss+error')\n",
    "plt.plot(history.epoch, history.history['val_loss'], label='val_error')\n",
    "plt.legend()"
   ]
  },
  {
   "cell_type": "code",
   "execution_count": 15,
   "metadata": {
    "collapsed": true
   },
   "outputs": [],
   "source": [
    "def plot_confusion_matrix(cm, title='Confusion matrix', cmap=plt.cm.Blues, labels=[]):\n",
    "    plt.imshow(cm, interpolation='nearest', cmap=cmap)\n",
    "    plt.title(title)\n",
    "    plt.colorbar()\n",
    "    tick_marks = np.arange(len(labels))\n",
    "    plt.xticks(tick_marks, labels, rotation=45)\n",
    "    plt.yticks(tick_marks, labels)\n",
    "    plt.tight_layout()\n",
    "    plt.ylabel('True label')\n",
    "    plt.xlabel('Predicted label')"
   ]
  },
  {
   "cell_type": "code",
   "execution_count": 16,
   "metadata": {},
   "outputs": [
    {
     "name": "stderr",
     "output_type": "stream",
     "text": [
      "/home/yoni/repos/university/ENV/lib/python2.7/site-packages/ipykernel_launcher.py:10: RuntimeWarning: invalid value encountered in divide\n",
      "  # Remove the CWD from sys.path while we load stuff.\n"
     ]
    },
    {
     "data": {
      "image/png": "[encoded data removed]",
      "text/plain": [
       "<matplotlib.figure.Figure at 0x7f1412c21ad0>"
      ]
     },
     "metadata": {},
     "output_type": "display_data"
    }
   ],
   "source": [
    "# Plot confusion matrix\n",
    "test_Y_hat = model.predict(X_test_rgb, batch_size=batch_size)\n",
    "conf = np.zeros([len(mods),len(mods)])\n",
    "confnorm = np.zeros([len(mods),len(mods)])\n",
    "for i in range(0,X_test_rgb.shape[0]):\n",
    "    j = list(Y_test_rgb[i,:]).index(1)\n",
    "    k = int(np.argmax(test_Y_hat[i,:]))\n",
    "    conf[j,k] = conf[j,k] + 1\n",
    "for i in range(0,len(mods)):\n",
    "    confnorm[i,:] = conf[i,:] / np.sum(conf[i,:])\n",
    "plot_confusion_matrix(confnorm, labels=mods)\n"
   ]
  },
  {
   "cell_type": "code",
   "execution_count": 17,
   "metadata": {},
   "outputs": [
    {
     "ename": "IndexError",
     "evalue": "index 10109 is out of bounds for axis 0 with size 3000",
     "output_type": "error",
     "traceback": [
      "\u001b[0;31m---------------------------------------------------------------------------\u001b[0m",
      "\u001b[0;31mIndexError\u001b[0m                                Traceback (most recent call last)",
      "\u001b[0;32m<ipython-input-17-4927255b42b1>\u001b[0m in \u001b[0;36m<module>\u001b[0;34m()\u001b[0m\n\u001b[1;32m      4\u001b[0m     \u001b[0;31m# extract classes @ SNR\u001b[0m\u001b[0;34m\u001b[0m\u001b[0;34m\u001b[0m\u001b[0m\n\u001b[1;32m      5\u001b[0m     \u001b[0mtest_SNRs\u001b[0m \u001b[0;34m=\u001b[0m \u001b[0mmap\u001b[0m\u001b[0;34m(\u001b[0m\u001b[0;32mlambda\u001b[0m \u001b[0mx\u001b[0m\u001b[0;34m:\u001b[0m \u001b[0mlbl\u001b[0m\u001b[0;34m[\u001b[0m\u001b[0mx\u001b[0m\u001b[0;34m]\u001b[0m\u001b[0;34m[\u001b[0m\u001b[0;36m1\u001b[0m\u001b[0;34m]\u001b[0m\u001b[0;34m,\u001b[0m \u001b[0mtest_idx\u001b[0m\u001b[0;34m)\u001b[0m\u001b[0;34m\u001b[0m\u001b[0m\n\u001b[0;32m----> 6\u001b[0;31m     \u001b[0mtest_X_i\u001b[0m \u001b[0;34m=\u001b[0m \u001b[0mX_test_rgb\u001b[0m\u001b[0;34m[\u001b[0m\u001b[0mnp\u001b[0m\u001b[0;34m.\u001b[0m\u001b[0mwhere\u001b[0m\u001b[0;34m(\u001b[0m\u001b[0mnp\u001b[0m\u001b[0;34m.\u001b[0m\u001b[0marray\u001b[0m\u001b[0;34m(\u001b[0m\u001b[0mtest_SNRs\u001b[0m\u001b[0;34m)\u001b[0m\u001b[0;34m==\u001b[0m\u001b[0msnr\u001b[0m\u001b[0;34m)\u001b[0m\u001b[0;34m]\u001b[0m\u001b[0;34m\u001b[0m\u001b[0m\n\u001b[0m\u001b[1;32m      7\u001b[0m     \u001b[0mtest_Y_i\u001b[0m \u001b[0;34m=\u001b[0m \u001b[0mY_test_rgb\u001b[0m\u001b[0;34m[\u001b[0m\u001b[0mnp\u001b[0m\u001b[0;34m.\u001b[0m\u001b[0mwhere\u001b[0m\u001b[0;34m(\u001b[0m\u001b[0mnp\u001b[0m\u001b[0;34m.\u001b[0m\u001b[0marray\u001b[0m\u001b[0;34m(\u001b[0m\u001b[0mtest_SNRs\u001b[0m\u001b[0;34m)\u001b[0m\u001b[0;34m==\u001b[0m\u001b[0msnr\u001b[0m\u001b[0;34m)\u001b[0m\u001b[0;34m]\u001b[0m\u001b[0;34m\u001b[0m\u001b[0m\n\u001b[1;32m      8\u001b[0m     \u001b[0;31m# estimate classes\u001b[0m\u001b[0;34m\u001b[0m\u001b[0;34m\u001b[0m\u001b[0m\n",
      "\u001b[0;31mIndexError\u001b[0m: index 10109 is out of bounds for axis 0 with size 3000"
     ]
    }
   ],
   "source": [
    "# Plot confusion matrix\n",
    "acc = {}\n",
    "for snr in snrs:\n",
    "    # extract classes @ SNR\n",
    "    test_SNRs = map(lambda x: lbl[x][1], test_idx)\n",
    "    test_X_i = X_test_rgb[np.where(np.array(test_SNRs)==snr)]\n",
    "    test_Y_i = Y_test_rgb[np.where(np.array(test_SNRs)==snr)]    \n",
    "    # estimate classes\n",
    "    test_Y_i_hat = model.predict(test_X_i)\n",
    "    conf = np.zeros([len(classes),len(classes)])\n",
    "    confnorm = np.zeros([len(classes),len(classes)])\n",
    "    for i in range(0,test_X_i.shape[0]):\n",
    "        j = list(test_Y_i[i,:]).index(1)\n",
    "        k = int(np.argmax(test_Y_i_hat[i,:]))\n",
    "        conf[j,k] = conf[j,k] + 1\n",
    "    for i in range(0,len(classes)):\n",
    "        confnorm[i,:] = conf[i,:] / np.sum(conf[i,:])\n",
    "    plt.figure()\n",
    "    plot_confusion_matrix(confnorm, labels=classes, title=\"ConvNet Confusion Matrix (SNR=%d)\"%(snr))\n",
    "    \n",
    "    cor = np.sum(np.diag(conf))\n",
    "    ncor = np.sum(conf) - cor\n",
    "    print \"Overall Accuracy: \", cor / (cor+ncor)\n",
    "    acc[snr] = 1.0*cor/(cor+ncor)\n",
    "    "
   ]
  },
  {
   "cell_type": "code",
   "execution_count": null,
   "metadata": {},
   "outputs": [],
   "source": [
    "# Save results to a pickle file for plotting later\n",
    "print acc\n",
    "fd = open('results_cnn2_d0.5.dat','wb')\n",
    "cPickle.dump( (\"CNN2\", 0.5, acc) , fd )"
   ]
  },
  {
   "cell_type": "code",
   "execution_count": null,
   "metadata": {},
   "outputs": [],
   "source": [
    "# Plot accuracy curve\n",
    "plt.plot(snrs, map(lambda x: acc[x], snrs))\n",
    "plt.xlabel(\"Signal to Noise Ratio\")\n",
    "plt.ylabel(\"Classification Accuracy\")\n",
    "plt.title(\"CNN2 Classification Accuracy on RadioML 2016.10 Alpha\")"
   ]
  },
  {
   "cell_type": "code",
   "execution_count": null,
   "metadata": {
    "collapsed": true
   },
   "outputs": [],
   "source": []
  }
 ],
 "metadata": {
  "kernelspec": {
   "display_name": "Python 2",
   "language": "python",
   "name": "python2"
  },
  "language_info": {
   "codemirror_mode": {
    "name": "ipython",
    "version": 2
   },
   "file_extension": ".py",
   "mimetype": "text/x-python",
   "name": "python",
   "nbconvert_exporter": "python",
   "pygments_lexer": "ipython2",
   "version": "2.7.13"
  }
 },
 "nbformat": 4,
 "nbformat_minor": 2
}
