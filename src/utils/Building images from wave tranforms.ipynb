{
 "cells": [
  {
   "cell_type": "code",
   "execution_count": 12,
   "metadata": {
    "collapsed": true
   },
   "outputs": [],
   "source": [
    "%matplotlib inline\n",
    "\n",
    "import matplotlib.pyplot as plt\n",
    "import numpy as np\n",
    "from scipy import interpolate, signal\n",
    "\n",
    "from dbManager import initDb\n",
    "from signalUtils import getOverSampledSignal, getSignalWithLabelGenerator\n",
    "from PIL import Image\n",
    "import io\n",
    "\n"
   ]
  },
  {
   "cell_type": "code",
   "execution_count": 13,
   "metadata": {},
   "outputs": [
    {
     "name": "stdout",
     "output_type": "stream",
     "text": [
      "(110000, 2, 128) [2, 128]\n"
     ]
    }
   ],
   "source": [
    "generator = getSignalWithLabelGenerator(initDb)\n"
   ]
  },
  {
   "cell_type": "code",
   "execution_count": 14,
   "metadata": {},
   "outputs": [],
   "source": [
    "def cwt(x):\n",
    "    sNew = getOverSampledSignal(x, 8)\n",
    "    width = 32\n",
    "    widths = np.arange(1, width)\n",
    "    cwtmatr = signal.cwt(sNew, signal.ricker, widths)\n",
    "    plt.imshow(cwtmatr, extent=[-1, 1, 1, width],\n",
    "               cmap='PRGn', aspect='auto', vmax=abs(cwtmatr).max(), vmin=-abs(cwtmatr).max())\n",
    "    plt.draw()\n",
    "    plt.axis('off')    \n",
    "    buf = io.BytesIO()\n",
    "    plt.savefig(buf, format='png',bbox_inches='tight',pad_inches = 0)\n",
    "    buf.seek(0)\n",
    "    plt.close()\n",
    "    return Image.open(buf)\n"
   ]
  },
  {
   "cell_type": "code",
   "execution_count": 15,
   "metadata": {
    "scrolled": true
   },
   "outputs": [
    {
     "name": "stdout",
     "output_type": "stream",
     "text": [
      "AM-SSB\n"
     ]
    }
   ],
   "source": [
    "sample, label = generator(1)\n",
    "i, q = sample[0], sample[1]\n"
   ]
  },
  {
   "cell_type": "code",
   "execution_count": 16,
   "metadata": {},
   "outputs": [
    {
     "name": "stdout",
     "output_type": "stream",
     "text": [
      "(224, 224)\n",
      "(224, 224)\n"
     ]
    }
   ],
   "source": [
    "vgg16ImageSize = (224,224)\n",
    "finalImage = np.empty((224,224, 3), dtype=np.uint8)\n",
    "\n",
    "iImg = cwt(i)\n",
    "qImg = cwt(q)\n",
    "\n",
    "iImg = iImg.resize(vgg16ImageSize)\n",
    "print iImg.size\n",
    "grayI = iImg.convert('L')\n",
    "qImg = qImg.resize(vgg16ImageSize)        \n",
    "grayQ = qImg.convert('L')\n",
    "\n",
    "h,w = qImg.size\n",
    "finalImage[:, :, 0] = grayI\n",
    "finalImage[:, :, 1] = grayQ\n",
    "        \n",
    "validate = Image.fromarray(finalImage)\n",
    "\n",
    "    "
   ]
  },
  {
   "cell_type": "code",
   "execution_count": null,
   "metadata": {
    "collapsed": true
   },
   "outputs": [],
   "source": []
  }
 ],
 "metadata": {
  "kernelspec": {
   "display_name": "Python 2",
   "language": "python",
   "name": "python2"
  },
  "language_info": {
   "codemirror_mode": {
    "name": "ipython",
    "version": 2
   },
   "file_extension": ".py",
   "mimetype": "text/x-python",
   "name": "python",
   "nbconvert_exporter": "python",
   "pygments_lexer": "ipython2",
   "version": "2.7.13"
  }
 },
 "nbformat": 4,
 "nbformat_minor": 2
}
